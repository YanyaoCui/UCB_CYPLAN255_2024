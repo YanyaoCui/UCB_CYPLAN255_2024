{
 "cells": [
  {
   "cell_type": "markdown",
   "metadata": {},
   "source": [
    "## Assignment 1 | Data Types\n",
    "\n",
    "Add code cells as needed for your answers. "
   ]
  },
  {
   "cell_type": "markdown",
   "metadata": {},
   "source": [
    "### Exercise 1: Manipulating Lists"
   ]
  },
  {
   "cell_type": "markdown",
   "metadata": {},
   "source": [
    "Create a list containing the numbers 10, 20, and 30. Store your list as a variable named `a`. Then create a second list containing the numbers 30, 60, and 90. Call this this `b`."
   ]
  },
  {
   "cell_type": "code",
   "execution_count": 2,
   "metadata": {},
   "outputs": [],
   "source": [
    "a = [10, 20, 30]\n",
    "b = [30, 60, 90]"
   ]
  },
  {
   "cell_type": "markdown",
   "metadata": {},
   "source": [
    "In the cells below, write Python expressions to create the following four outputs by combining `a` and `b` in creative ways:\n",
    "\n",
    "1. [[10, 20, 30], [30, 60, 90]]\n",
    "\n",
    "2. [10, 20, 30, 30, 60, 90]\n",
    "\n",
    "3. [10, 20, 60, 90]\n",
    "\n",
    "4. [20, 40, 60]"
   ]
  },
  {
   "cell_type": "code",
   "execution_count": 4,
   "metadata": {},
   "outputs": [
    {
     "data": {
      "text/plain": [
       "[[10, 20, 30], [30, 60, 90]]"
      ]
     },
     "execution_count": 4,
     "metadata": {},
     "output_type": "execute_result"
    }
   ],
   "source": [
    "[a, b]"
   ]
  },
  {
   "cell_type": "code",
   "execution_count": 5,
   "metadata": {},
   "outputs": [
    {
     "data": {
      "text/plain": [
       "[10, 20, 30, 30, 60, 90]"
      ]
     },
     "execution_count": 5,
     "metadata": {},
     "output_type": "execute_result"
    }
   ],
   "source": [
    "a+b"
   ]
  },
  {
   "cell_type": "code",
   "execution_count": 6,
   "metadata": {},
   "outputs": [
    {
     "data": {
      "text/plain": [
       "[10, 20, 60, 90]"
      ]
     },
     "execution_count": 6,
     "metadata": {},
     "output_type": "execute_result"
    }
   ],
   "source": [
    "[a[0], a[1]] + b[1:]"
   ]
  },
  {
   "cell_type": "code",
   "execution_count": 20,
   "metadata": {},
   "outputs": [
    {
     "data": {
      "text/plain": [
       "[20, 40, 60]"
      ]
     },
     "execution_count": 20,
     "metadata": {},
     "output_type": "execute_result"
    }
   ],
   "source": [
    "[a[1], a[1] * 2, b[1]]"
   ]
  },
  {
   "cell_type": "markdown",
   "metadata": {},
   "source": [
    "### Exercise 2. Working with Lists\n",
    "\n",
    "Create a list that contains the sums of each of the lists in G. \n",
    "\n",
    "`G = [[13, 9, 8], [14, 6, 12], [10, 13, 11], [7, 18, 9]]`\n",
    "\n",
    "Your output should look like:\n",
    "\n",
    "- `[30, 32, 34, 34]`\n",
    "\n",
    "Hint: try computing the sum for just one list first."
   ]
  },
  {
   "cell_type": "code",
   "execution_count": 3,
   "metadata": {},
   "outputs": [
    {
     "name": "stdout",
     "output_type": "stream",
     "text": [
      "[30, 32, 34, 34]\n"
     ]
    }
   ],
   "source": [
    "G = [[13, 9, 8], [14, 6, 12], [10, 13, 11], [7, 18, 9]]\n",
    "sums_of_lists = [sum(sublist) for sublist in G]\n",
    "\n",
    "print(sums_of_lists)"
   ]
  },
  {
   "cell_type": "markdown",
   "metadata": {},
   "source": [
    "### Exercise 3: String Manipulation\n",
    "\n",
    "Turn the string below into 'all good countrymen' using the minimum amount of code, using only the methods we've covered so far. A couple of lines of code should do the trick.  Note: this requires string and list methods."
   ]
  },
  {
   "cell_type": "code",
   "execution_count": 30,
   "metadata": {},
   "outputs": [
    {
     "name": "stdout",
     "output_type": "stream",
     "text": [
      "Now is the time for all good men to come to the aid of their country!\n"
     ]
    }
   ],
   "source": [
    "s = 'Now is the time for all good men to come to the aid of their country!'"
   ]
  },
  {
   "cell_type": "code",
   "execution_count": 41,
   "metadata": {},
   "outputs": [
    {
     "name": "stdout",
     "output_type": "stream",
     "text": [
      "all good countrymen\n"
     ]
    }
   ],
   "source": [
    "s = 'Now is the time for all good men to come to the aid of their country!'\n",
    "a = s.split(\" \")[5:8]\n",
    "a[a.index('men')] = 'countrymen'\n",
    "s = ' '.join(a)\n",
    "print(s)"
   ]
  },
  {
   "cell_type": "markdown",
   "metadata": {},
   "source": [
    "### Exercise 4: String Manipulation and Type Conversion\n",
    "\n",
    "Define a variable `a = \"Sarah earns $96500 in a year\"`. Then maniuplate the value of `a` in order to print the following string: `Sarah earns $8041.67 monthly`\n",
    "\n",
    "Start by doing it in several steps and then combine them one step at a time until you can do it in one line."
   ]
  },
  {
   "cell_type": "code",
   "execution_count": 50,
   "metadata": {},
   "outputs": [
    {
     "name": "stdout",
     "output_type": "stream",
     "text": [
      "Sarah earns $8041.67 monthly\n"
     ]
    }
   ],
   "source": [
    "a = \"Sarah earns $96500 in a year\"\n",
    "salary_str = a.split('$')[1].split()[0]\n",
    "salary = float(salary_str)\n",
    "monthly_salary = salary / 12\n",
    "result_string = f\"Sarah earns ${monthly_salary:.2f} monthly\"\n",
    "print(result_string)"
   ]
  },
  {
   "cell_type": "markdown",
   "metadata": {},
   "source": [
    "### Exercise 5: Create and Query a Dictionary on State Demographics\n",
    "\n",
    "Create two dictionaries, one for California and one for New York state, based on the data in the following table:\n",
    "\n",
    "| States | Pop Density | Prop White | Prop Afr Amer | Prop Asian | Prop Other | Owners | Renters |\n",
    "| --- | ---: | ---: | ---: | ---: | ---: | ---: | ---: |\n",
    "| CA | 239.1 | 0.57  | 0.06 | 0.13 | 0.22 | 7035371 | 5542127 |\n",
    "| NY | 411.2 | 0.65  | 0.15 | 0.07 | 0.22 | 3897837 | 3419918 |\n",
    "\n",
    "Each dictionary should have the following keys and value types: `name: (string)` , `population density: (float)`, `race (dict)`, `tenure: (dict)`. \n",
    "\n",
    "1.  Create one dictionary called CA and one called NY that contain dictionaries containing name, pop_density, race as a dictionary, and tenure for California and New York.  Now combine these into a dictionary called \"states\", making it a dictionary of dictionaries, or a nested dictionary.\n",
    "\n",
    "1.  Check if Texas is in our state dictionary (we know it isn't but show us).\n",
    "\n",
    "1. Print the White population in New York as a percentage\n",
    "\n",
    "1. Assume there was a typo in the data, and update the White population fraction of NY to 0.64. Verify that it was updated by printing the percentage again.\n",
    "\n",
    "1. Print the percentage of households that are renters in California, with two decimal places"
   ]
  },
  {
   "cell_type": "code",
   "execution_count": 52,
   "metadata": {},
   "outputs": [
    {
     "name": "stdout",
     "output_type": "stream",
     "text": [
      "Is Texas in our state dictionary?\n",
      "False\n",
      "White population percentage in New York: 65.0 %\n",
      "Updated White population percentage in New York: 64.0 %\n",
      "Percentage of households that are renters in California: 44.06%\n"
     ]
    }
   ],
   "source": [
    "# Creating dictionaries for California and New York\n",
    "CA = {\n",
    "    'name': 'California',\n",
    "    'pop_density': 239.1,\n",
    "    'race': {\n",
    "        'Prop White': 0.57,\n",
    "        'Prop Afr Amer': 0.06,\n",
    "        'Prop Asian': 0.13,\n",
    "        'Prop Other': 0.22\n",
    "    },\n",
    "    'tenure': {\n",
    "        'Owners': 7035371,\n",
    "        'Renters': 5542127\n",
    "    }\n",
    "}\n",
    "\n",
    "NY = {\n",
    "    'name': 'New York',\n",
    "    'pop_density': 411.2,\n",
    "    'race': {\n",
    "        'Prop White': 0.65,\n",
    "        'Prop Afr Amer': 0.15,\n",
    "        'Prop Asian': 0.07,\n",
    "        'Prop Other': 0.22\n",
    "    },\n",
    "    'tenure': {\n",
    "        'Owners': 3897837,\n",
    "        'Renters': 3419918\n",
    "    }\n",
    "}\n",
    "\n",
    "# Combining dictionaries into a nested dictionary called \"states\"\n",
    "states = {\n",
    "    'CA': CA,\n",
    "    'NY': NY\n",
    "}\n",
    "\n",
    "# Check if Texas is in our state dictionary\n",
    "print(\"Is Texas in our state dictionary?\")\n",
    "print('TX' in states)\n",
    "\n",
    "# Print the White population in New York as a percentage\n",
    "ny_white_percentage = NY['race']['Prop White'] * 100\n",
    "print(\"White population percentage in New York:\", ny_white_percentage, \"%\")\n",
    "\n",
    "# Assume there was a typo in the data, and update the White population fraction of NY to 0.64\n",
    "NY['race']['Prop White'] = 0.64\n",
    "\n",
    "# Verify that it was updated by printing the percentage again\n",
    "ny_white_percentage_updated = NY['race']['Prop White'] * 100\n",
    "print(\"Updated White population percentage in New York:\", ny_white_percentage_updated, \"%\")\n",
    "\n",
    "# Print the percentage of households that are renters in California, with two decimal places\n",
    "ca_renter_percentage = (CA['tenure']['Renters'] / (CA['tenure']['Owners'] + CA['tenure']['Renters'])) * 100\n",
    "print(\"Percentage of households that are renters in California: {:.2f}%\".format(ca_renter_percentage))\n"
   ]
  },
  {
   "cell_type": "markdown",
   "metadata": {
    "collapsed": true
   },
   "source": [
    "### Exercise 6: Working with Numpy Arrays\n",
    "\n",
    "1. Create and print a 4 x 4 array named `a` with value 3 everywhere.\n",
    "\n",
    "1. Create and print a 4 x 4 array named `b` with elements drawn from a uniform random distribution \n",
    "\n",
    "1. Create and print array `c` by dividing a by b\n",
    "\n",
    "1. Compute and print the min, mean, max, median, and 90th percentile values of `c`\n",
    "\n",
    "1. Compute and print the sum of the second column in `c`"
   ]
  },
  {
   "cell_type": "code",
   "execution_count": 54,
   "metadata": {},
   "outputs": [
    {
     "name": "stdout",
     "output_type": "stream",
     "text": [
      "Array 'a':\n",
      "[[3 3 3 3]\n",
      " [3 3 3 3]\n",
      " [3 3 3 3]\n",
      " [3 3 3 3]]\n",
      "\n"
     ]
    }
   ],
   "source": [
    "import numpy as np\n",
    "a = np.full((4, 4), 3)\n",
    "print(\"Array 'a':\")\n",
    "print(a)\n",
    "print()\n"
   ]
  },
  {
   "cell_type": "code",
   "execution_count": 55,
   "metadata": {},
   "outputs": [
    {
     "name": "stdout",
     "output_type": "stream",
     "text": [
      "Array 'b':\n",
      "[[0.51292069 0.75655566 0.23062292 0.14970112]\n",
      " [0.23819805 0.96818997 0.72648554 0.8086697 ]\n",
      " [0.57136052 0.76053204 0.23689916 0.82873898]\n",
      " [0.4804497  0.93269733 0.93075355 0.36367352]]\n",
      "\n"
     ]
    }
   ],
   "source": [
    "b = np.random.rand(4, 4)\n",
    "print(\"Array 'b':\")\n",
    "print(b)\n",
    "print()"
   ]
  },
  {
   "cell_type": "code",
   "execution_count": 56,
   "metadata": {},
   "outputs": [
    {
     "name": "stdout",
     "output_type": "stream",
     "text": [
      "Array 'c' (a divided by b):\n",
      "[[ 5.84885747  3.96533947 13.00824764 20.03992977]\n",
      " [12.59456179  3.09856547  4.12946966  3.70979645]\n",
      " [ 5.25062533  3.94460699 12.66361604  3.61995765]\n",
      " [ 6.24415004  3.21647753  3.22319478  8.24915712]]\n",
      "\n"
     ]
    }
   ],
   "source": [
    "c = a / b\n",
    "print(\"Array 'c' (a divided by b):\")\n",
    "print(c)\n",
    "print()"
   ]
  },
  {
   "cell_type": "code",
   "execution_count": 57,
   "metadata": {},
   "outputs": [
    {
     "name": "stdout",
     "output_type": "stream",
     "text": [
      "Statistics of array 'c':\n",
      "Min: 3.0985654731826644\n",
      "Mean: 7.050409575833529\n",
      "Max: 20.03992977477668\n",
      "Median: 4.690047496531097\n",
      "90th Percentile: 12.835931838081883\n",
      "\n"
     ]
    }
   ],
   "source": [
    "print(\"Statistics of array 'c':\")\n",
    "print(\"Min:\", np.min(c))\n",
    "print(\"Mean:\", np.mean(c))\n",
    "print(\"Max:\", np.max(c))\n",
    "print(\"Median:\", np.median(c))\n",
    "print(\"90th Percentile:\", np.percentile(c, 90))\n",
    "print()"
   ]
  },
  {
   "cell_type": "code",
   "execution_count": 58,
   "metadata": {},
   "outputs": [
    {
     "name": "stdout",
     "output_type": "stream",
     "text": [
      "Sum of the second column in array 'c': 14.224989462496012\n"
     ]
    }
   ],
   "source": [
    "sum_second_column = np.sum(c[:, 1])\n",
    "print(\"Sum of the second column in array 'c':\", sum_second_column)"
   ]
  },
  {
   "cell_type": "code",
   "execution_count": null,
   "metadata": {},
   "outputs": [],
   "source": []
  }
 ],
 "metadata": {
  "kernelspec": {
   "display_name": "Python 3",
   "language": "python",
   "name": "python3"
  },
  "language_info": {
   "codemirror_mode": {
    "name": "ipython",
    "version": 3
   },
   "file_extension": ".py",
   "mimetype": "text/x-python",
   "name": "python",
   "nbconvert_exporter": "python",
   "pygments_lexer": "ipython3",
   "version": "3.9.11"
  },
  "toc": {
   "base_numbering": 1,
   "nav_menu": {},
   "number_sections": false,
   "sideBar": true,
   "skip_h1_title": false,
   "title_cell": "Table of Contents",
   "title_sidebar": "Contents",
   "toc_cell": false,
   "toc_position": {},
   "toc_section_display": true,
   "toc_window_display": false
  }
 },
 "nbformat": 4,
 "nbformat_minor": 2
}
