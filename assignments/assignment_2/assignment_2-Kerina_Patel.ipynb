{
 "cells": [
  {
   "cell_type": "markdown",
   "id": "f96bdfc7",
   "metadata": {},
   "source": [
    "# Assignment 2 | Programming Logic\n",
    "\n",
    "Reminder: in all of the assignments this semester, the answer is not the only consideration, but also how you get to it. It's OK (suggested even!) to use the internet for help. But you _should_ be able to answer all of these questions using only the programming techniques you have learned in class and from the readings.\n",
    "\n",
    "A few keys for success:\n",
    "- Avoid manual data entry\n",
    "- Emphasize logic and clarity\n",
    "- Use comments, docstrings, and descriptive variable names\n",
    "- In general, less code is better. But if more lines of code makes your program easier to read or understand what its doing, then go for it."
   ]
  },
  {
   "cell_type": "markdown",
   "id": "078a9000",
   "metadata": {},
   "source": [
    "## Problem 1 \n",
    "Write a Python program to count the number of even and odd numbers from a list of numbers. Test your code by running it on a list of integers from 1 to 9. No need to make this a function unless you want to."
   ]
  },
  {
   "cell_type": "code",
   "execution_count": 71,
   "id": "8eb937c5",
   "metadata": {},
   "outputs": [
    {
     "name": "stdout",
     "output_type": "stream",
     "text": [
      "There are 5 even numbers and 4 odd numbers\n"
     ]
    }
   ],
   "source": [
    "x = list(range(1, 10))\n",
    "y = 0\n",
    "z = 0\n",
    "for num in x:\n",
    "    if num % 2 == 1:\n",
    "        y = y + 1\n",
    "        continue\n",
    "    else: \n",
    "        z = z + 1\n",
    "        continue\n",
    "print(\"There are\", y, \"even numbers and\", z, \"odd numbers\")"
   ]
  },
  {
   "cell_type": "markdown",
   "id": "db9df1a9",
   "metadata": {
    "collapsed": true
   },
   "source": [
    "## Problem 2\n",
    "Write a Python function that takes a list of numbers and returns a list containing only the even numbers from the original list. Test your function by running it on a list of integers from 1 to 9."
   ]
  },
  {
   "cell_type": "code",
   "execution_count": 72,
   "id": "45fcfd00",
   "metadata": {},
   "outputs": [
    {
     "name": "stdout",
     "output_type": "stream",
     "text": [
      "[2, 4, 6, 8]\n"
     ]
    }
   ],
   "source": [
    "a = list(range(1, 10))\n",
    "def evenonly(m):\n",
    "    b = []\n",
    "    for num in m:\n",
    "        if num % 2 == 0:\n",
    "            b.append(num)\n",
    "    print(b)\n",
    "evenonly(a)"
   ]
  },
  {
   "cell_type": "markdown",
   "id": "6a6f4ef0",
   "metadata": {},
   "source": [
    "## Problem 3\n",
    "\n",
    "1. Create a function that accepts a list of integers as an argument and returns a list of floats which equals each number as a fraction of the sum of all the items in the original list.\n",
    "\n",
    "2. Next, create a second function which is the same as the first, but limit each number in the output list to two decimals.\n",
    "\n",
    "3. Create another function which builds on the previous one by allowing a \"user\" pass in an argument that defines the number of decimal places to use in the output list.\n",
    "\n",
    "4. Test each of these functions with a list of integers"
   ]
  },
  {
   "cell_type": "code",
   "execution_count": 73,
   "id": "6856ee58",
   "metadata": {},
   "outputs": [],
   "source": [
    "# Question 1\n",
    "def fractions(x):\n",
    "    z = []\n",
    "    for num in x:\n",
    "        z.append(num/sum(x))\n",
    "    print(z)"
   ]
  },
  {
   "cell_type": "code",
   "execution_count": 74,
   "id": "c10f419d",
   "metadata": {
    "scrolled": true
   },
   "outputs": [],
   "source": [
    "# Question 2\n",
    "def fractionsrounded(x):\n",
    "    z = []\n",
    "    for num in x:\n",
    "        z.append(round(num/sum(x),2))\n",
    "    print(z)"
   ]
  },
  {
   "cell_type": "code",
   "execution_count": 75,
   "id": "4a8fb2a3",
   "metadata": {},
   "outputs": [],
   "source": [
    "# Question 3\n",
    "def fractionsrounded_fancy(x, y):\n",
    "    z = []\n",
    "    for num in x:\n",
    "        z.append(round(num/sum(x),y))\n",
    "    print(z)\n",
    "    \n"
   ]
  },
  {
   "cell_type": "code",
   "execution_count": 76,
   "id": "3366c67e",
   "metadata": {},
   "outputs": [
    {
     "name": "stdout",
     "output_type": "stream",
     "text": [
      "[0.1111111111111111, 0.2222222222222222, 0.6666666666666666]\n",
      "[0.11, 0.22, 0.67]\n",
      "[0.11111, 0.22222, 0.66667]\n"
     ]
    }
   ],
   "source": [
    "# Question 4\n",
    "a = [1, 2, 6]\n",
    "fractions(a)\n",
    " \n",
    "b = [1, 2, 6]\n",
    "fractionsrounded(b)\n",
    "\n",
    "c = [1, 2, 6] # input list of integers\n",
    "d = 5 # number of decimal places to use in output\n",
    "fractionsrounded_fancy(c, d)"
   ]
  },
  {
   "cell_type": "markdown",
   "id": "17e43098",
   "metadata": {},
   "source": [
    "## Problem 4\n",
    "A prime number is any whole number greater than 1 that has no positive divisors besides 1 and itself. In other words, a prime number must be:\n",
    "1. an integer\n",
    "2. greater than 1\n",
    "3. divisible only by 1 and itself.\n",
    "\n",
    "Write a function is_prime(n) that accepts an argument `n` and returns `True` (boolean) if `n` is a prime number and `False` if n is not prime. For example, `is_prime(11)` should return `True` and `is_prime(12)` should return `False`.\n"
   ]
  },
  {
   "cell_type": "code",
   "execution_count": 82,
   "id": "7b43bc6c",
   "metadata": {},
   "outputs": [
    {
     "name": "stdout",
     "output_type": "stream",
     "text": [
      "True\n",
      "False\n"
     ]
    }
   ],
   "source": [
    "def is_prime(n):\n",
    "    if n <= 1:\n",
    "        return False\n",
    "    i = 1\n",
    "    for i in range(2,n):\n",
    "        if n % i == 0:  \n",
    "            return False\n",
    "    else: \n",
    "        return True\n",
    "    \n",
    "print(is_prime(11))\n",
    "print(is_prime(12))"
   ]
  },
  {
   "cell_type": "markdown",
   "id": "e556b42f",
   "metadata": {},
   "source": [
    "## Problem 5"
   ]
  },
  {
   "cell_type": "markdown",
   "id": "fd5f4463",
   "metadata": {},
   "source": [
    "1. Create a class called `Housing`, and add the following attributes to it:\n",
    "  - type\n",
    "  - area\n",
    "  - number of bedrooms\n",
    "  - value (price)\n",
    "  - year built.\n",
    "2. Create two instances of your class and populate their attributes (make 'em up)\n",
    "3. Create a method called `rent()` that calculates the estimated monthly rent for each house (assume that monthly rent is 0.4% of the value of the house)\n",
    "4. Print the rent for both instances."
   ]
  },
  {
   "cell_type": "code",
   "execution_count": 83,
   "id": "efa713df",
   "metadata": {},
   "outputs": [
    {
     "name": "stdout",
     "output_type": "stream",
     "text": [
      "2000.0\n",
      "1000.0\n"
     ]
    }
   ],
   "source": [
    "class Housing:\n",
    "    def __init__(self, home_type, area, num_bedrooms, value, year_built):\n",
    "        self.home_type = home_type\n",
    "        self.area = area\n",
    "        self.num_bedrooms = num_bedrooms\n",
    "        self.value = value\n",
    "        self.year_built = year_built\n",
    "        \n",
    "    def rent(self):\n",
    "        return 0.004 * self.value\n",
    "\n",
    "example1 = Housing(\"Duplex\", 1200, 4, 500000, 2020)\n",
    "example2 = Housing(\"Apartment\", 500, 2, 250000, 2015)\n",
    "print(example1.rent())\n",
    "print(example2.rent())"
   ]
  }
 ],
 "metadata": {
  "kernelspec": {
   "display_name": "Python 3 (ipykernel)",
   "language": "python",
   "name": "python3"
  },
  "language_info": {
   "codemirror_mode": {
    "name": "ipython",
    "version": 3
   },
   "file_extension": ".py",
   "mimetype": "text/x-python",
   "name": "python",
   "nbconvert_exporter": "python",
   "pygments_lexer": "ipython3",
   "version": "3.11.5"
  },
  "toc": {
   "base_numbering": 1,
   "nav_menu": {},
   "number_sections": false,
   "sideBar": false,
   "skip_h1_title": true,
   "title_cell": "Table of Contents",
   "title_sidebar": "Contents",
   "toc_cell": false,
   "toc_position": {},
   "toc_section_display": true,
   "toc_window_display": false
  }
 },
 "nbformat": 4,
 "nbformat_minor": 5
}
