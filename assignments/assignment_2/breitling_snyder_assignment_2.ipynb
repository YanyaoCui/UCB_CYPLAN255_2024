{
 "cells": [
  {
   "cell_type": "markdown",
   "id": "f96bdfc7",
   "metadata": {},
   "source": [
    "# Assignment 2 | Programming Logic\n",
    "\n",
    "Reminder: in all of the assignments this semester, the answer is not the only consideration, but also how you get to it. It's OK (suggested even!) to use the internet for help. But you _should_ be able to answer all of these questions using only the programming techniques you have learned in class and from the readings.\n",
    "\n",
    "A few keys for success:\n",
    "- Avoid manual data entry\n",
    "- Emphasize logic and clarity\n",
    "- Use comments, docstrings, and descriptive variable names\n",
    "- In general, less code is better. But if more lines of code makes your program easier to read or understand what its doing, then go for it."
   ]
  },
  {
   "cell_type": "markdown",
   "id": "078a9000",
   "metadata": {},
   "source": [
    "## Problem 1 \n",
    "Write a Python program to count the number of even and odd numbers from a list of numbers. Test your code by running it on a list of integers from 1 to 9. No need to make this a function unless you want to."
   ]
  },
  {
   "cell_type": "code",
   "execution_count": 10,
   "id": "8eb937c5",
   "metadata": {},
   "outputs": [
    {
     "name": "stdout",
     "output_type": "stream",
     "text": [
      "Even: 4  Odd: 5\n"
     ]
    }
   ],
   "source": [
    "def count_even_odd(numlist): # Takes a list of numbers and prints the count of even and odd numbers in this list\n",
    "    even = 0 # Start initial even and odd counts at zero\n",
    "    odd = 0\n",
    "    \n",
    "    for num in numlist: # Iterate through all numbers in the list\n",
    "        if num % 2 == 0: # If the number is even, add one to the even counter\n",
    "            even += 1\n",
    "        else: # If the number is odd, add one to the odd counter\n",
    "            odd +=1\n",
    "    \n",
    "    print('Even:', even, ' Odd:', odd) # Print the counts\n",
    "\n",
    "count_even_odd(list(range(1,10)))"
   ]
  },
  {
   "cell_type": "markdown",
   "id": "db9df1a9",
   "metadata": {
    "collapsed": true
   },
   "source": [
    "## Problem 2\n",
    "Write a Python function that takes a list of numbers and returns a list containing only the even numbers from the original list. Test your function by running it on a list of integers from 1 to 9."
   ]
  },
  {
   "cell_type": "code",
   "execution_count": 9,
   "id": "45fcfd00",
   "metadata": {},
   "outputs": [
    {
     "data": {
      "text/plain": [
       "[2, 4, 6, 8]"
      ]
     },
     "execution_count": 9,
     "metadata": {},
     "output_type": "execute_result"
    }
   ],
   "source": [
    "def only_evens(numlist): # Takes a list of numbers and returns a list of only the even numbers\n",
    "    evenlist = [] # Create an empty list to populate with the even numbers\n",
    "    \n",
    "    for num in numlist: # Iterate through each number in the list\n",
    "        if num % 2 == 0: # If the number is even, add it to the even number list\n",
    "            evenlist.append(num)\n",
    "            \n",
    "    return evenlist\n",
    "\n",
    "only_evens(list(range(1,10)))"
   ]
  },
  {
   "cell_type": "markdown",
   "id": "6a6f4ef0",
   "metadata": {},
   "source": [
    "## Problem 3\n",
    "\n",
    "1. Create a function that accepts a list of integers as an argument and returns a list of floats which equals each number as a fraction of the sum of all the items in the original list.\n",
    "\n",
    "2. Next, create a second function which is the same as the first, but limit each number in the output list to two decimals.\n",
    "\n",
    "3. Create another function which builds on the previous one by allowing a \"user\" pass in an argument that defines the number of decimal places to use in the output list.\n",
    "\n",
    "4. Test each of these functions with a list of integers"
   ]
  },
  {
   "cell_type": "code",
   "execution_count": 11,
   "id": "6856ee58",
   "metadata": {},
   "outputs": [
    {
     "data": {
      "text/plain": [
       "[0.022222222222222223,\n",
       " 0.044444444444444446,\n",
       " 0.06666666666666667,\n",
       " 0.08888888888888889,\n",
       " 0.1111111111111111,\n",
       " 0.13333333333333333,\n",
       " 0.15555555555555556,\n",
       " 0.17777777777777778,\n",
       " 0.2]"
      ]
     },
     "execution_count": 11,
     "metadata": {},
     "output_type": "execute_result"
    }
   ],
   "source": [
    "def part_of_sum(numlist): # Takes a list of integers and returns a list of floats which equals each number \n",
    "                          # as a fraction of the sum of all the items in the original list.\n",
    "        \n",
    "    numsum = 0 # Create a variable for the sum of all numbers in the list\n",
    "    newlist = [] # Create a list to populate with the fractional values\n",
    "    \n",
    "    for num in numlist: # Iterate through the numbers in the list and add them to the total sum\n",
    "        numsum += num\n",
    "    \n",
    "    for num in numlist: # Iterate through the numbers in the list and save its fractional value to the new list\n",
    "        newlist.append(num/numsum)\n",
    "    \n",
    "    return newlist\n",
    "\n",
    "part_of_sum(list(range(1,10)))"
   ]
  },
  {
   "cell_type": "code",
   "execution_count": 12,
   "id": "4b499b3b",
   "metadata": {},
   "outputs": [
    {
     "data": {
      "text/plain": [
       "[0.02, 0.04, 0.07, 0.09, 0.11, 0.13, 0.16, 0.18, 0.2]"
      ]
     },
     "execution_count": 12,
     "metadata": {},
     "output_type": "execute_result"
    }
   ],
   "source": [
    "def part_of_sum_2dec(numlist): # Takes a list of integers and returns a list of floats which equals each number \n",
    "                                # as a fraction of the sum of all the items in the original list, with 2 decimals.\n",
    "    numsum = 0\n",
    "    newlist = []\n",
    "    \n",
    "    for num in numlist:\n",
    "        numsum += num\n",
    "    \n",
    "    for num in numlist:\n",
    "        newlist.append(round(num/numsum, 2)) # Add the fractional value, but rounded with 2 decimals\n",
    "    \n",
    "    return newlist\n",
    "\n",
    "part_of_sum_2dec(list(range(1,10))) # The last number in the list already has only one decimal (0.2)\n",
    "                                    # so it does not tack on a 0 using the round function"
   ]
  },
  {
   "cell_type": "code",
   "execution_count": 14,
   "id": "3ed42fd2",
   "metadata": {},
   "outputs": [
    {
     "data": {
      "text/plain": [
       "[0.0222222222,\n",
       " 0.0444444444,\n",
       " 0.0666666667,\n",
       " 0.0888888889,\n",
       " 0.1111111111,\n",
       " 0.1333333333,\n",
       " 0.1555555556,\n",
       " 0.1777777778,\n",
       " 0.2]"
      ]
     },
     "execution_count": 14,
     "metadata": {},
     "output_type": "execute_result"
    }
   ],
   "source": [
    "def part_of_sum_ndec(numlist, n): # Takes a list of integers and returns a list of floats which equals each number \n",
    "                                  # as a fraction of the sum of all the items in the original list, with n decimals.\n",
    "    numsum = 0\n",
    "    newlist = []\n",
    "    \n",
    "    for num in numlist:\n",
    "        numsum += num\n",
    "    \n",
    "    for num in numlist:\n",
    "        newlist.append(round(num/numsum, n)) # Add the fractional value, but rounded to the n desired decimals\n",
    "    \n",
    "    return newlist\n",
    "\n",
    "part_of_sum_ndec(list(range(1,10)), 10) # Here we try with ten decimals"
   ]
  },
  {
   "cell_type": "markdown",
   "id": "17e43098",
   "metadata": {},
   "source": [
    "## Problem 4\n",
    "A prime number is any whole number greater than 1 that has no positive divisors besides 1 and itself. In other words, a prime number must be:\n",
    "1. an integer\n",
    "2. greater than 1\n",
    "3. divisible only by 1 and itself.\n",
    "\n",
    "Write a function is_prime(n) that accepts an argument `n` and returns `True` (boolean) if `n` is a prime number and `False` if n is not prime. For example, `is_prime(11)` should return `True` and `is_prime(12)` should return `False`.\n"
   ]
  },
  {
   "cell_type": "code",
   "execution_count": 31,
   "id": "7b43bc6c",
   "metadata": {},
   "outputs": [
    {
     "data": {
      "text/plain": [
       "False"
      ]
     },
     "execution_count": 31,
     "metadata": {},
     "output_type": "execute_result"
    }
   ],
   "source": [
    "def is_prime(n):\n",
    "    \n",
    "    if (type(n) != int) or (n <= 1): # Immediately rule out any non-integers or numbers less than or equal to 0\n",
    "        return False\n",
    "    \n",
    "    else:\n",
    "        factor_count = 0 # In the case that we have an integer greater than 1, create a count for all factors of n\n",
    "        \n",
    "        for factor in range(2, n): # Iterate through potential factors (not including 1 or n)\n",
    "            if n % factor == 0: \n",
    "                factor_count +=1 # If the number is a factor, add one to the count\n",
    "                \n",
    "        if factor_count == 0: # If there are no factors (other than 1 and n), the number is prime\n",
    "            return True\n",
    "        else:\n",
    "            return False # Otherwise, the number is not prime\n",
    "\n",
    "is_prime(12)"
   ]
  },
  {
   "cell_type": "markdown",
   "id": "e556b42f",
   "metadata": {},
   "source": [
    "## Problem 5"
   ]
  },
  {
   "cell_type": "markdown",
   "id": "fd5f4463",
   "metadata": {},
   "source": [
    "1. Create a class called `Housing`, and add the following attributes to it:\n",
    "  - type\n",
    "  - area\n",
    "  - number of bedrooms\n",
    "  - value (price)\n",
    "  - year built.\n",
    "2. Create two instances of your class and populate their attributes (make 'em up)\n",
    "3. Create a method called `rent()` that calculates the estimated monthly rent for each house (assume that monthly rent is 0.4% of the value of the house)\n",
    "4. Print the rent for both instances."
   ]
  },
  {
   "cell_type": "code",
   "execution_count": 38,
   "id": "efa713df",
   "metadata": {},
   "outputs": [],
   "source": [
    "class Housing:\n",
    "    \n",
    "    def __init__(self, typ, area, nbed, val, yrblt):\n",
    "        self.typ = typ\n",
    "        self.area = area\n",
    "        self.nbed = nbed\n",
    "        self.val = val\n",
    "        self.yrblt = yrblt\n",
    "        \n",
    "    def rent(self):\n",
    "        \"\"\"Calculates the estimated monthly rent for each house \n",
    "        (assume that monthly rent is 0.4% of the value of the house)\"\"\"\n",
    "        \n",
    "        return 'Monthly rent: ${0}'.format(round(self.val*0.004, 2))"
   ]
  },
  {
   "cell_type": "code",
   "execution_count": 42,
   "id": "044514eb",
   "metadata": {},
   "outputs": [
    {
     "name": "stdout",
     "output_type": "stream",
     "text": [
      "Monthly rent: $1643.0\n",
      "Monthly rent: $3042.0\n"
     ]
    }
   ],
   "source": [
    "house1 = Housing(\"Apartment\", 975, 1, 410750.00, 1987)\n",
    "house2 = Housing(\"Detached SFH\", 2300, 4, 760500.00, 1965)\n",
    "\n",
    "print(house1.rent())\n",
    "print(house2.rent())"
   ]
  }
 ],
 "metadata": {
  "kernelspec": {
   "display_name": "Python 3 (ipykernel)",
   "language": "python",
   "name": "python3"
  },
  "language_info": {
   "codemirror_mode": {
    "name": "ipython",
    "version": 3
   },
   "file_extension": ".py",
   "mimetype": "text/x-python",
   "name": "python",
   "nbconvert_exporter": "python",
   "pygments_lexer": "ipython3",
   "version": "3.11.5"
  },
  "toc": {
   "base_numbering": 1,
   "nav_menu": {},
   "number_sections": false,
   "sideBar": false,
   "skip_h1_title": true,
   "title_cell": "Table of Contents",
   "title_sidebar": "Contents",
   "toc_cell": false,
   "toc_position": {},
   "toc_section_display": true,
   "toc_window_display": false
  }
 },
 "nbformat": 4,
 "nbformat_minor": 5
}
