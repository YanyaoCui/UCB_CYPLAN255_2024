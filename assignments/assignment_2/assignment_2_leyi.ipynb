{
 "cells": [
  {
   "cell_type": "markdown",
   "id": "f96bdfc7",
   "metadata": {},
   "source": [
    "# Assignment 2 | Programming Logic\n",
    "\n",
    "Reminder: in all of the assignments this semester, the answer is not the only consideration, but also how you get to it. It's OK (suggested even!) to use the internet for help. But you _should_ be able to answer all of these questions using only the programming techniques you have learned in class and from the readings.\n",
    "\n",
    "A few keys for success:\n",
    "- Avoid manual data entry\n",
    "- Emphasize logic and clarity\n",
    "- Use comments, docstrings, and descriptive variable names\n",
    "- In general, less code is better. But if more lines of code makes your program easier to read or understand what its doing, then go for it."
   ]
  },
  {
   "cell_type": "markdown",
   "id": "078a9000",
   "metadata": {},
   "source": [
    "## Problem 1 \n",
    "Write a Python program to count the number of even and odd numbers from a list of numbers. Test your code by running it on a list of integers from 1 to 9. No need to make this a function unless you want to."
   ]
  },
  {
   "cell_type": "code",
   "execution_count": 3,
   "id": "8eb937c5",
   "metadata": {},
   "outputs": [
    {
     "data": {
      "text/plain": [
       "(4, 5)"
      ]
     },
     "execution_count": 3,
     "metadata": {},
     "output_type": "execute_result"
    }
   ],
   "source": [
    "# Create a list of integers from 1 to 9\n",
    "numbers = list(range(1, 10))\n",
    "\n",
    "# Initialize counters for even and odd numbers\n",
    "even_count = 0\n",
    "odd_count = 0\n",
    "\n",
    "# Loop through the list to count even and odd numbers\n",
    "for number in numbers:\n",
    "    if number % 2 == 0:\n",
    "        even_count = even_count+1\n",
    "    else:\n",
    "        odd_count = even_count+1\n",
    "\n",
    "(even_count, odd_count)"
   ]
  },
  {
   "cell_type": "markdown",
   "id": "db9df1a9",
   "metadata": {
    "collapsed": true
   },
   "source": [
    "## Problem 2\n",
    "Write a Python function that takes a list of numbers and returns a list containing only the even numbers from the original list. Test your function by running it on a list of integers from 1 to 9."
   ]
  },
  {
   "cell_type": "code",
   "execution_count": 4,
   "id": "45fcfd00",
   "metadata": {},
   "outputs": [
    {
     "data": {
      "text/plain": [
       "[2, 4, 6, 8]"
      ]
     },
     "execution_count": 4,
     "metadata": {},
     "output_type": "execute_result"
    }
   ],
   "source": [
    "def filter_even_numbers(numbers):\n",
    "    # Filter and return only the even numbers from the list\n",
    "    return [i for i in numbers if i % 2 == 0]\n",
    "\n",
    "# Test the function with a list of integers from 1 to 9\n",
    "test_numbers = list(range(1, 10))\n",
    "even_numbers = filter_even_numbers(test_numbers)\n",
    "\n",
    "even_numbers"
   ]
  },
  {
   "cell_type": "markdown",
   "id": "6a6f4ef0",
   "metadata": {},
   "source": [
    "## Problem 3\n",
    "\n",
    "1. Create a function that accepts a list of integers as an argument and returns a list of floats which equals each number as a fraction of the sum of all the items in the original list.\n",
    "\n",
    "2. Next, create a second function which is the same as the first, but limit each number in the output list to two decimals.\n",
    "\n",
    "3. Create another function which builds on the previous one by allowing a \"user\" pass in an argument that defines the number of decimal places to use in the output list.\n",
    "\n",
    "4. Test each of these functions with a list of integers"
   ]
  },
  {
   "cell_type": "code",
   "execution_count": 14,
   "id": "6856ee58",
   "metadata": {},
   "outputs": [
    {
     "data": {
      "text/plain": [
       "([0.022222222222222223,\n",
       "  0.044444444444444446,\n",
       "  0.06666666666666667,\n",
       "  0.08888888888888889,\n",
       "  0.1111111111111111,\n",
       "  0.13333333333333333,\n",
       "  0.15555555555555556,\n",
       "  0.17777777777777778,\n",
       "  0.2],\n",
       " [0.02, 0.04, 0.07, 0.09, 0.11, 0.13, 0.16, 0.18, 0.2],\n",
       " [0.02222, 0.04444, 0.06667, 0.08889, 0.11111, 0.13333, 0.15556, 0.17778, 0.2])"
      ]
     },
     "execution_count": 14,
     "metadata": {},
     "output_type": "execute_result"
    }
   ],
   "source": [
    "def fraction_of_sum(numbers):\n",
    "    # Calculate the sum of the numbers in the list\n",
    "    total_sum = sum(numbers)\n",
    "    # Return each number as a fraction of the total sum, as floats\n",
    "    return [i / total_sum for i in numbers]\n",
    "\n",
    "def fraction_of_sum_two_decimals(numbers):\n",
    "    # Use the first function but round each element to two decimals\n",
    "    return [round(i / sum(numbers), 2) for i in numbers]\n",
    "\n",
    "def fraction_of_sum_custom_decimals(numbers, decimals):\n",
    "    # Similar to the second function but allows custom decimal places\n",
    "    return [round(i / sum(numbers), decimals) for i in numbers]\n",
    "\n",
    "# Test list of integers\n",
    "test_numbers = range(1, 10)\n",
    "\n",
    "# Testing each function with the list of integers\n",
    "fractions = fraction_of_sum(test_numbers)\n",
    "fractions_two_decimals = fraction_of_sum_two_decimals(test_numbers)\n",
    "fractions_custom_decimals = fraction_of_sum_custom_decimals(test_numbers, 5)\n",
    "\n",
    "fractions, fractions_two_decimals, fractions_custom_decimals"
   ]
  },
  {
   "cell_type": "markdown",
   "id": "17e43098",
   "metadata": {},
   "source": [
    "## Problem 4\n",
    "A prime number is any whole number greater than 1 that has no positive divisors besides 1 and itself. In other words, a prime number must be:\n",
    "1. an integer\n",
    "2. greater than 1\n",
    "3. divisible only by 1 and itself.\n",
    "\n",
    "Write a function is_prime(n) that accepts an argument `n` and returns `True` (boolean) if `n` is a prime number and `False` if n is not prime. For example, `is_prime(11)` should return `True` and `is_prime(12)` should return `False`.\n"
   ]
  },
  {
   "cell_type": "code",
   "execution_count": 5,
   "id": "7b43bc6c",
   "metadata": {},
   "outputs": [
    {
     "data": {
      "text/plain": [
       "{11: True, 12: False}"
      ]
     },
     "execution_count": 5,
     "metadata": {},
     "output_type": "execute_result"
    }
   ],
   "source": [
    "def is_prime(n):\n",
    "    # Check if n is less than 2, then it's not prime\n",
    "    if n < 2:\n",
    "        return False\n",
    "    # Check from 2 to the square root of n\n",
    "    for i in range(2, int(n**0.5) + 1):\n",
    "        # If n is divisible by any number between 2 and sqrt(n), it's not prime\n",
    "        if n % i == 0:\n",
    "            return False\n",
    "    # If no divisors were found, it's prime\n",
    "    return True\n",
    "\n",
    "# Test the function with the examples provided\n",
    "test_numbers = [11, 12]\n",
    "test_results = {num: is_prime(num) for num in test_numbers}\n",
    "test_results"
   ]
  },
  {
   "cell_type": "markdown",
   "id": "e556b42f",
   "metadata": {},
   "source": [
    "## Problem 5"
   ]
  },
  {
   "cell_type": "markdown",
   "id": "fd5f4463",
   "metadata": {},
   "source": [
    "1. Create a class called `Housing`, and add the following attributes to it:\n",
    "  - type\n",
    "  - area\n",
    "  - number of bedrooms\n",
    "  - value (price)\n",
    "  - year built.\n",
    "2. Create two instances of your class and populate their attributes (make 'em up)\n",
    "3. Create a method called `rent()` that calculates the estimated monthly rent for each house (assume that monthly rent is 0.4% of the value of the house)\n",
    "4. Print the rent for both instances."
   ]
  },
  {
   "cell_type": "code",
   "execution_count": 16,
   "id": "efa713df",
   "metadata": {},
   "outputs": [
    {
     "name": "stdout",
     "output_type": "stream",
     "text": [
      "Monthly rent for House 1: $2,000.00\n",
      "Monthly rent for House 2: $1,200.00\n"
     ]
    }
   ],
   "source": [
    "class Housing:\n",
    "    def __init__(self, type, area, bedrooms, value, year_built):\n",
    "        self.type = type\n",
    "        self.area = area\n",
    "        self.bedrooms = bedrooms\n",
    "        self.value = value\n",
    "        self.year_built = year_built\n",
    "        \n",
    "    def rent(self):\n",
    "        # Calculate monthly rent as 0.4% of the house value\n",
    "        return self.value * 0.004\n",
    "\n",
    "# Create two instances of the Housing class\n",
    "house1 = Housing(type=\"Detached\", area=2000, bedrooms=4, value=500000, year_built=2010)\n",
    "house2 = Housing(type=\"Townhouse\", area=1500, bedrooms=3, value=300000, year_built=2015)\n",
    "\n",
    "# Print the monthly rent for both instances\n",
    "print(f\"Monthly rent for House 1: ${house1.rent():,.2f}\")\n",
    "print(f\"Monthly rent for House 2: ${house2.rent():,.2f}\")"
   ]
  },
  {
   "cell_type": "code",
   "execution_count": null,
   "id": "8ddd7897",
   "metadata": {},
   "outputs": [],
   "source": []
  }
 ],
 "metadata": {
  "kernelspec": {
   "display_name": "Python 3 (ipykernel)",
   "language": "python",
   "name": "python3"
  },
  "language_info": {
   "codemirror_mode": {
    "name": "ipython",
    "version": 3
   },
   "file_extension": ".py",
   "mimetype": "text/x-python",
   "name": "python",
   "nbconvert_exporter": "python",
   "pygments_lexer": "ipython3",
   "version": "3.11.5"
  },
  "toc": {
   "base_numbering": 1,
   "nav_menu": {},
   "number_sections": false,
   "sideBar": false,
   "skip_h1_title": true,
   "title_cell": "Table of Contents",
   "title_sidebar": "Contents",
   "toc_cell": false,
   "toc_position": {},
   "toc_section_display": true,
   "toc_window_display": false
  }
 },
 "nbformat": 4,
 "nbformat_minor": 5
}
