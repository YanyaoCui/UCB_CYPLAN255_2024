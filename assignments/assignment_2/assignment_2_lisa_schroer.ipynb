{
 "cells": [
  {
   "cell_type": "markdown",
   "id": "f96bdfc7",
   "metadata": {},
   "source": [
    "# Assignment 2 | Programming Logic\n",
    "\n",
    "Reminder: in all of the assignments this semester, the answer is not the only consideration, but also how you get to it. It's OK (suggested even!) to use the internet for help. But you _should_ be able to answer all of these questions using only the programming techniques you have learned in class and from the readings.\n",
    "\n",
    "A few keys for success:\n",
    "- Avoid manual data entry\n",
    "- Emphasize logic and clarity\n",
    "- Use comments, docstrings, and descriptive variable names\n",
    "- In general, less code is better. But if more lines of code makes your program easier to read or understand what its doing, then go for it."
   ]
  },
  {
   "cell_type": "markdown",
   "id": "078a9000",
   "metadata": {},
   "source": [
    "## Problem 1 \n",
    "Write a Python program to count the number of even and odd numbers from a list of numbers. Test your code by running it on a list of integers from 1 to 9. No need to make this a function unless you want to."
   ]
  },
  {
   "cell_type": "code",
   "execution_count": 8,
   "id": "8eb937c5",
   "metadata": {},
   "outputs": [
    {
     "name": "stdout",
     "output_type": "stream",
     "text": [
      "my list: [1 2 3 4 5 6 7 8 9]\n",
      "even numbers in list =  4\n",
      "odd numbers in list =  5\n"
     ]
    }
   ],
   "source": [
    "import numpy as np\n",
    "int_list = np.arange(1,10,1,dtype=int)\n",
    "print('my list:',int_list)\n",
    "\n",
    "even_nums = 0\n",
    "odd_nums = 0\n",
    "\n",
    "for x in int_list:\n",
    "    if x % 2 == 0:\n",
    "        even_nums += 1\n",
    "    else:\n",
    "        odd_nums += 1\n",
    "\n",
    "print('even numbers in list = ',even_nums)\n",
    "print('odd numbers in list = ',odd_nums)\n",
    "    \n"
   ]
  },
  {
   "cell_type": "markdown",
   "id": "db9df1a9",
   "metadata": {
    "collapsed": true
   },
   "source": [
    "## Problem 2\n",
    "Write a Python function that takes a list of numbers and returns a list containing only the even numbers from the original list. Test your function by running it on a list of integers from 1 to 9."
   ]
  },
  {
   "cell_type": "code",
   "execution_count": 9,
   "id": "45fcfd00",
   "metadata": {},
   "outputs": [
    {
     "name": "stdout",
     "output_type": "stream",
     "text": [
      "my list: [1 2 3 4 5 6 7 8 9]\n"
     ]
    },
    {
     "data": {
      "text/plain": [
       "[2, 4, 6, 8]"
      ]
     },
     "execution_count": 9,
     "metadata": {},
     "output_type": "execute_result"
    }
   ],
   "source": [
    "int_list = np.arange(1,10,1,dtype=int)\n",
    "print('my list:',int_list)\n",
    "\n",
    "def even_nums(x):\n",
    "    evens = []\n",
    "    for num in x:\n",
    "        if num % 2 == 0:\n",
    "            evens.append(num)\n",
    "    return evens\n",
    "    \n",
    "\n",
    "even_nums(int_list)"
   ]
  },
  {
   "cell_type": "markdown",
   "id": "6a6f4ef0",
   "metadata": {},
   "source": [
    "## Problem 3\n",
    "\n",
    "1. Create a function that accepts a list of integers as an argument and returns a list of floats which equals each number as a fraction of the sum of all the items in the original list.\n",
    "\n",
    "2. Next, create a second function which is the same as the first, but limit each number in the output list to two decimals.\n",
    "\n",
    "3. Create another function which builds on the previous one by allowing a \"user\" pass in an argument that defines the number of decimal places to use in the output list.\n",
    "\n",
    "4. Test each of these functions with a list of integers"
   ]
  },
  {
   "cell_type": "code",
   "execution_count": 24,
   "id": "6856ee58",
   "metadata": {},
   "outputs": [
    {
     "name": "stdout",
     "output_type": "stream",
     "text": [
      "my list: [1 2 3 4 5 6 7 8 9]\n",
      "function 1 result: [0.022222222222222223, 0.044444444444444446, 0.06666666666666667, 0.08888888888888889, 0.1111111111111111, 0.13333333333333333, 0.15555555555555556, 0.17777777777777778, 0.2]\n",
      "function 2 results:  [0.02, 0.04, 0.07, 0.09, 0.11, 0.13, 0.16, 0.18, 0.2]\n",
      "function 2 results:  [0.0222222, 0.0444444, 0.0666667, 0.0888889, 0.1111111, 0.1333333, 0.1555556, 0.1777778, 0.2]\n"
     ]
    }
   ],
   "source": [
    "# function 1\n",
    "def fxn_1(x):\n",
    "    pct = []\n",
    "    for num in x:\n",
    "        pct.append(num/sum(x))\n",
    "    return(pct)\n",
    "\n",
    "\n",
    "# function 2\n",
    "def fxn_2(x):\n",
    "    pct = []\n",
    "    for num in x:\n",
    "        pct.append(round((num/sum(x)),2))\n",
    "    return(pct)\n",
    "\n",
    "# function 3\n",
    "def fxn_3(x,y):\n",
    "    pct = []\n",
    "    for num in x:\n",
    "        pct.append(round((num/sum(x)),y))\n",
    "    return(pct)\n",
    "    \n",
    "\n",
    "\n",
    "# testing each function with a list of integers\n",
    "int_list = np.arange(1,10,1,dtype=int)\n",
    "print('my list:',int_list)\n",
    "\n",
    "print('function 1 result:',fxn_1(int_list))\n",
    "print('function 2 results: ',fxn_2(int_list))\n",
    "print('function 2 results: ',fxn_3(int_list, 7))"
   ]
  },
  {
   "cell_type": "markdown",
   "id": "17e43098",
   "metadata": {},
   "source": [
    "## Problem 4\n",
    "A prime number is any whole number greater than 1 that has no positive divisors besides 1 and itself. In other words, a prime number must be:\n",
    "1. an integer\n",
    "2. greater than 1\n",
    "3. divisible only by 1 and itself.\n",
    "\n",
    "Write a function is_prime(n) that accepts an argument `n` and returns `True` (boolean) if `n` is a prime number and `False` if n is not prime. For example, `is_prime(11)` should return `True` and `is_prime(12)` should return `False`.\n"
   ]
  },
  {
   "cell_type": "code",
   "execution_count": 142,
   "id": "7b43bc6c",
   "metadata": {},
   "outputs": [
    {
     "name": "stdout",
     "output_type": "stream",
     "text": [
      "True\n"
     ]
    }
   ],
   "source": [
    "def is_prime(x):\n",
    "    if x <= 1 or isinstance(x,int) == False:\n",
    "        return False\n",
    "    for num in range(2,int(x/2)+1):\n",
    "            if (x % num) == 0:\n",
    "                return False\n",
    "\n",
    "    return True\n",
    "\n",
    "    \n",
    "print(is_prime(13))\n",
    "\n",
    "        "
   ]
  },
  {
   "cell_type": "markdown",
   "id": "e556b42f",
   "metadata": {},
   "source": [
    "## Problem 5"
   ]
  },
  {
   "cell_type": "markdown",
   "id": "fd5f4463",
   "metadata": {},
   "source": [
    "1. Create a class called `Housing`, and add the following attributes to it:\n",
    "  - type\n",
    "  - area\n",
    "  - number of bedrooms\n",
    "  - value (price)\n",
    "  - year built.\n",
    "2. Create two instances of your class and populate their attributes (make 'em up)\n",
    "3. Create a method called `rent()` that calculates the estimated monthly rent for each house (assume that monthly rent is 0.4% of the value of the house)\n",
    "4. Print the rent for both instances."
   ]
  },
  {
   "cell_type": "code",
   "execution_count": 158,
   "id": "efa713df",
   "metadata": {},
   "outputs": [
    {
     "name": "stdout",
     "output_type": "stream",
     "text": [
      "Rent for house1: 20.0\n",
      "Rent for house2: 80000.0\n"
     ]
    }
   ],
   "source": [
    "# question 1 and 3\n",
    "class Housing:\n",
    "    def __init__(house, house_type, area, num_bedrooms, value, year_built):\n",
    "        house.house_type = house_type\n",
    "        house.area = area\n",
    "        house.num_bedrooms = num_bedrooms\n",
    "        house.value = value\n",
    "        house.year_built = year_built\n",
    "    def rent(x):\n",
    "        rent = x * 0.04\n",
    "        return rent\n",
    "\n",
    "# question 2\n",
    "house1 = Housing(\"apartment\", 1400, 2, 500, 1994)\n",
    "house2 = Housing(\"house\", 4000, 6, 2000000, 1980)\n",
    "\n",
    "# question 4\n",
    "print('Rent for house1:',Housing.rent(house1.value))\n",
    "print('Rent for house2:',Housing.rent(house2.value))        "
   ]
  },
  {
   "cell_type": "code",
   "execution_count": null,
   "id": "42d394aa",
   "metadata": {},
   "outputs": [],
   "source": []
  }
 ],
 "metadata": {
  "kernelspec": {
   "display_name": "Python 3 (ipykernel)",
   "language": "python",
   "name": "python3"
  },
  "language_info": {
   "codemirror_mode": {
    "name": "ipython",
    "version": 3
   },
   "file_extension": ".py",
   "mimetype": "text/x-python",
   "name": "python",
   "nbconvert_exporter": "python",
   "pygments_lexer": "ipython3",
   "version": "3.11.5"
  },
  "toc": {
   "base_numbering": 1,
   "nav_menu": {},
   "number_sections": false,
   "sideBar": false,
   "skip_h1_title": true,
   "title_cell": "Table of Contents",
   "title_sidebar": "Contents",
   "toc_cell": false,
   "toc_position": {},
   "toc_section_display": true,
   "toc_window_display": false
  }
 },
 "nbformat": 4,
 "nbformat_minor": 5
}
