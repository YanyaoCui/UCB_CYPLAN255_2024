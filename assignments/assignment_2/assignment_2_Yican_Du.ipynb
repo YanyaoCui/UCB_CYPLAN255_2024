{
 "cells": [
  {
   "cell_type": "markdown",
   "id": "f96bdfc7",
   "metadata": {},
   "source": [
    "# Assignment 2 | Programming Logic\n",
    "\n",
    "Reminder: in all of the assignments this semester, the answer is not the only consideration, but also how you get to it. It's OK (suggested even!) to use the internet for help. But you _should_ be able to answer all of these questions using only the programming techniques you have learned in class and from the readings.\n",
    "\n",
    "A few keys for success:\n",
    "- Avoid manual data entry\n",
    "- Emphasize logic and clarity\n",
    "- Use comments, docstrings, and descriptive variable names\n",
    "- In general, less code is better. But if more lines of code makes your program easier to read or understand what its doing, then go for it."
   ]
  },
  {
   "cell_type": "markdown",
   "id": "078a9000",
   "metadata": {},
   "source": [
    "## Problem 1 \n",
    "Write a Python program to count the number of even and odd numbers from a list of numbers. Test your code by running it on a list of integers from 1 to 9. No need to make this a function unless you want to."
   ]
  },
  {
   "cell_type": "code",
   "execution_count": 14,
   "id": "54e4d6d3",
   "metadata": {},
   "outputs": [
    {
     "name": "stdout",
     "output_type": "stream",
     "text": [
      "Even numbers: 4\n",
      "Odd numbers: 5\n"
     ]
    }
   ],
   "source": [
    "def count_even_odd(a):\n",
    "    even_count = 0\n",
    "    odd_count = 0\n",
    "    for number in a:\n",
    "        if number % 2 == 0:\n",
    "            even_count += 1\n",
    "        else:\n",
    "            odd_count += 1\n",
    "    return even_count, odd_count\n",
    "\n",
    "#test#\n",
    "a = list(range(1,10))\n",
    "count_even_odd(a)\n",
    "print(\"Even numbers:\", even_count)\n",
    "print(\"Odd numbers:\", odd_count)"
   ]
  },
  {
   "cell_type": "markdown",
   "id": "db9df1a9",
   "metadata": {
    "collapsed": true
   },
   "source": [
    "## Problem 2\n",
    "Write a Python function that takes a list of numbers and returns a list containing only the even numbers from the original list. Test your function by running it on a list of integers from 1 to 9."
   ]
  },
  {
   "cell_type": "code",
   "execution_count": 16,
   "id": "d9c8aac0",
   "metadata": {},
   "outputs": [
    {
     "name": "stdout",
     "output_type": "stream",
     "text": [
      "Even numbers: [2, 4, 6, 8]\n"
     ]
    }
   ],
   "source": [
    "def only_even(b):\n",
    "    even_numbers = []\n",
    "    for number in b:\n",
    "        if number % 2 == 0:\n",
    "            even_numbers.append(number)\n",
    "    return even_numbers\n",
    "\n",
    "# Test the function\n",
    "b = list(range(1, 10))\n",
    "result = only_even(b)\n",
    "print(\"Even numbers:\", result)"
   ]
  },
  {
   "cell_type": "markdown",
   "id": "246a5dc9",
   "metadata": {},
   "source": [
    "#### Here I got a question:\n",
    "I thought I already creat a list named 'even_numbers', but why it showed: the 'even_numbers' is not defined ; when I tried to run: print (even_numbers)?"
   ]
  },
  {
   "cell_type": "markdown",
   "id": "6a6f4ef0",
   "metadata": {},
   "source": [
    "## Problem 3\n",
    "\n",
    "1. Create a function that accepts a list of integers as an argument and returns a list of floats which equals each number as a fraction of the sum of all the items in the original list.\n",
    "\n",
    "2. Next, create a second function which is the same as the first, but limit each number in the output list to two decimals.\n",
    "\n",
    "3. Create another function which builds on the previous one by allowing a \"user\" pass in an argument that defines the number of decimal places to use in the output list.\n",
    "\n",
    "4. Test each of these functions with a list of integers"
   ]
  },
  {
   "cell_type": "code",
   "execution_count": 31,
   "id": "6856ee58",
   "metadata": {},
   "outputs": [
    {
     "name": "stdout",
     "output_type": "stream",
     "text": [
      "[0.022222222222222223, 0.044444444444444446, 0.06666666666666667, 0.08888888888888889, 0.1111111111111111, 0.13333333333333333, 0.15555555555555556, 0.17777777777777778, 0.2]\n"
     ]
    }
   ],
   "source": [
    "def fraction(numbers):\n",
    "    fraction_list = []\n",
    "    for x in numbers:\n",
    "        fraction_list.append(x/sum(numbers))\n",
    "    return fraction_list\n",
    "\n",
    "#test#\n",
    "numbers = list(range(1, 10))\n",
    "result = fraction(numbers)\n",
    "print (result)"
   ]
  },
  {
   "cell_type": "code",
   "execution_count": 30,
   "id": "ba671198",
   "metadata": {},
   "outputs": [
    {
     "name": "stdout",
     "output_type": "stream",
     "text": [
      "[0.02, 0.04, 0.07, 0.09, 0.11, 0.13, 0.16, 0.18, 0.2]\n"
     ]
    }
   ],
   "source": [
    "def fraction(numbers):\n",
    "    fraction_list = []\n",
    "    for x in numbers:\n",
    "        fraction_list.append(round(x / sum(numbers), 2))\n",
    "    return fraction_list\n",
    "\n",
    "#test#\n",
    "numbers = list(range(1, 10))\n",
    "result = fraction(numbers)\n",
    "print (result)"
   ]
  },
  {
   "cell_type": "code",
   "execution_count": 29,
   "id": "4d5e270a",
   "metadata": {},
   "outputs": [
    {
     "name": "stdout",
     "output_type": "stream",
     "text": [
      "decimal4\n",
      "[0.0222, 0.0444, 0.0667, 0.0889, 0.1111, 0.1333, 0.1556, 0.1778, 0.2]\n"
     ]
    }
   ],
   "source": [
    "def fraction(numbers, decimal_places):\n",
    "    fraction_list = []\n",
    "    for x in numbers:\n",
    "        fraction_list.append(round(x / sum(numbers), decimal_places))\n",
    "    return fraction_list\n",
    "\n",
    "#test#\n",
    "numbers = list(range(1, 10))\n",
    "decimal_places = int(input(\"decimal\"))\n",
    "result = fraction(numbers, decimal_places)\n",
    "print (result)"
   ]
  },
  {
   "cell_type": "markdown",
   "id": "17e43098",
   "metadata": {},
   "source": [
    "## Problem 4\n",
    "A prime number is any whole number greater than 1 that has no positive divisors besides 1 and itself. In other words, a prime number must be:\n",
    "1. an integer\n",
    "2. greater than 1\n",
    "3. divisible only by 1 and itself.\n",
    "\n",
    "Write a function is_prime(n) that accepts an argument `n` and returns `True` (boolean) if `n` is a prime number and `False` if n is not prime. For example, `is_prime(11)` should return `True` and `is_prime(12)` should return `False`.\n"
   ]
  },
  {
   "cell_type": "code",
   "execution_count": 32,
   "id": "7b43bc6c",
   "metadata": {},
   "outputs": [],
   "source": [
    "def is_prime(n):\n",
    "    if n <= 1:\n",
    "        return False\n",
    "    if n == 2:\n",
    "        return True\n",
    "    if n % 2 == 0:\n",
    "        return False\n",
    "    for i in range(3, int(n**0.5) + 1, 2):\n",
    "        if n % i == 0:\n",
    "            return False\n",
    "    return True"
   ]
  },
  {
   "cell_type": "code",
   "execution_count": 34,
   "id": "0cf01201",
   "metadata": {},
   "outputs": [
    {
     "name": "stdout",
     "output_type": "stream",
     "text": [
      "True\n"
     ]
    }
   ],
   "source": [
    "print(is_prime(7)) "
   ]
  },
  {
   "cell_type": "markdown",
   "id": "e556b42f",
   "metadata": {},
   "source": [
    "## Problem 5"
   ]
  },
  {
   "cell_type": "markdown",
   "id": "fd5f4463",
   "metadata": {},
   "source": [
    "1. Create a class called `Housing`, and add the following attributes to it:\n",
    "  - type\n",
    "  - area\n",
    "  - number of bedrooms\n",
    "  - value (price)\n",
    "  - year built.\n",
    "2. Create two instances of your class and populate their attributes (make 'em up)\n",
    "3. Create a method called `rent()` that calculates the estimated monthly rent for each house (assume that monthly rent is 0.4% of the value of the house)\n",
    "4. Print the rent for both instances."
   ]
  },
  {
   "cell_type": "code",
   "execution_count": 35,
   "id": "efa713df",
   "metadata": {},
   "outputs": [],
   "source": [
    "class Housing:\n",
    "    pass"
   ]
  },
  {
   "cell_type": "code",
   "execution_count": 36,
   "id": "7b3d0cea",
   "metadata": {},
   "outputs": [],
   "source": [
    "class Housing:\n",
    "\n",
    "    def __init__(self, typ, area, bdroom, price, year):\n",
    "        self.typ = typ\n",
    "        self.area = area\n",
    "        self.bdroom = bdroom\n",
    "        self.price = price\n",
    "        self.year = year"
   ]
  },
  {
   "cell_type": "markdown",
   "id": "e6f470a7",
   "metadata": {},
   "source": [
    "#### Create two instances of your class and populate their attributes (make 'em up)"
   ]
  },
  {
   "cell_type": "code",
   "execution_count": 37,
   "id": "e9b0f08a",
   "metadata": {},
   "outputs": [],
   "source": [
    "house_1 = Housing('multi_family','Berkeley','2',1400000,'1990')\n",
    "house_2 = Housing('apartment','Oakland','2',2000000,'2010')"
   ]
  },
  {
   "cell_type": "markdown",
   "id": "037eb6e1",
   "metadata": {},
   "source": [
    "#### Create a method called rent() that calculates the estimated monthly rent for each house (assume that monthly rent is 0.4% of the value of the house)"
   ]
  },
  {
   "cell_type": "code",
   "execution_count": 42,
   "id": "4b3b1dfa",
   "metadata": {},
   "outputs": [],
   "source": [
    "class Housing:\n",
    "    def __init__(self, typ, area, bdroom, price, year):\n",
    "        self.typ = typ\n",
    "        self.area = area\n",
    "        self.bdroom = bdroom\n",
    "        self.price = price\n",
    "        self.year = year\n",
    "        \n",
    "    def rent(self):  \n",
    "        rent = 0.004 * self.price  \n",
    "        return rent"
   ]
  },
  {
   "cell_type": "code",
   "execution_count": 43,
   "id": "97fa72bf",
   "metadata": {},
   "outputs": [],
   "source": [
    "house_1 = Housing('multi_family','Berkeley','2',1400000,'1990')\n",
    "house_2 = Housing('apartment','Oakland','2',2000000,'2010')"
   ]
  },
  {
   "cell_type": "code",
   "execution_count": 44,
   "id": "25a48a1a",
   "metadata": {},
   "outputs": [
    {
     "name": "stdout",
     "output_type": "stream",
     "text": [
      "5600.0\n"
     ]
    }
   ],
   "source": [
    "print(house_1.rent()) "
   ]
  },
  {
   "cell_type": "code",
   "execution_count": 45,
   "id": "e955446c",
   "metadata": {},
   "outputs": [
    {
     "name": "stdout",
     "output_type": "stream",
     "text": [
      "8000.0\n"
     ]
    }
   ],
   "source": [
    "print(house_2.rent()) "
   ]
  },
  {
   "cell_type": "code",
   "execution_count": null,
   "id": "4e09d139",
   "metadata": {},
   "outputs": [],
   "source": []
  }
 ],
 "metadata": {
  "kernelspec": {
   "display_name": "Python 3 (ipykernel)",
   "language": "python",
   "name": "python3"
  },
  "language_info": {
   "codemirror_mode": {
    "name": "ipython",
    "version": 3
   },
   "file_extension": ".py",
   "mimetype": "text/x-python",
   "name": "python",
   "nbconvert_exporter": "python",
   "pygments_lexer": "ipython3",
   "version": "3.11.4"
  },
  "toc": {
   "base_numbering": 1,
   "nav_menu": {},
   "number_sections": false,
   "sideBar": false,
   "skip_h1_title": true,
   "title_cell": "Table of Contents",
   "title_sidebar": "Contents",
   "toc_cell": false,
   "toc_position": {},
   "toc_section_display": true,
   "toc_window_display": false
  }
 },
 "nbformat": 4,
 "nbformat_minor": 5
}
