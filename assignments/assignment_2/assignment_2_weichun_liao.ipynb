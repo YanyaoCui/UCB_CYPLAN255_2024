{
 "cells": [
  {
   "cell_type": "markdown",
   "id": "f96bdfc7",
   "metadata": {},
   "source": [
    "# Assignment 2 | Programming Logic\n",
    "\n",
    "Reminder: in all of the assignments this semester, the answer is not the only consideration, but also how you get to it. It's OK (suggested even!) to use the internet for help. But you _should_ be able to answer all of these questions using only the programming techniques you have learned in class and from the readings.\n",
    "\n",
    "A few keys for success:\n",
    "- Avoid manual data entry\n",
    "- Emphasize logic and clarity\n",
    "- Use comments, docstrings, and descriptive variable names\n",
    "- In general, less code is better. But if more lines of code makes your program easier to read or understand what its doing, then go for it."
   ]
  },
  {
   "cell_type": "markdown",
   "id": "078a9000",
   "metadata": {},
   "source": [
    "## Problem 1 \n",
    "Write a Python program to count the number of even and odd numbers from a list of numbers. Test your code by running it on a list of integers from 1 to 9. No need to make this a function unless you want to."
   ]
  },
  {
   "cell_type": "code",
   "execution_count": 4,
   "id": "8eb937c5",
   "metadata": {},
   "outputs": [],
   "source": [
    "def odd_count(numbers):\n",
    "    odd_count = 0\n",
    "    even_count = 0\n",
    "    for number in numbers:\n",
    "        if number % 2 == 0:\n",
    "            even_count += 1\n",
    "        else:\n",
    "            odd_count += 1\n",
    "    return odd_count,even_count"
   ]
  },
  {
   "cell_type": "code",
   "execution_count": 5,
   "id": "a660d07a",
   "metadata": {},
   "outputs": [],
   "source": [
    "a=[1, 2, 3, 4, 5, 6, 7, 8, 9]\n",
    "oc,ec=odd_count(a)"
   ]
  },
  {
   "cell_type": "code",
   "execution_count": 6,
   "id": "95405bc3",
   "metadata": {},
   "outputs": [
    {
     "name": "stdout",
     "output_type": "stream",
     "text": [
      "5 4\n"
     ]
    }
   ],
   "source": [
    "print(oc,ec)"
   ]
  },
  {
   "cell_type": "markdown",
   "id": "db9df1a9",
   "metadata": {
    "collapsed": true
   },
   "source": [
    "## Problem 2\n",
    "Write a Python function that takes a list of numbers and returns a list containing only the even numbers from the original list. Test your function by running it on a list of integers from 1 to 9."
   ]
  },
  {
   "cell_type": "code",
   "execution_count": 24,
   "id": "45fcfd00",
   "metadata": {},
   "outputs": [],
   "source": [
    "def even_list(numbers):\n",
    "    even_number=[]\n",
    "    for number in numbers:\n",
    "        if number % 2 == 0:\n",
    "            even_number.append(number)\n",
    "    return even_number"
   ]
  },
  {
   "cell_type": "code",
   "execution_count": 57,
   "id": "a1d048ee",
   "metadata": {},
   "outputs": [],
   "source": [
    "a=list(range(1,10))"
   ]
  },
  {
   "cell_type": "code",
   "execution_count": 58,
   "id": "5e95b83e",
   "metadata": {},
   "outputs": [
    {
     "data": {
      "text/plain": [
       "[2, 4, 6, 8]"
      ]
     },
     "execution_count": 58,
     "metadata": {},
     "output_type": "execute_result"
    }
   ],
   "source": [
    "b=even_list(a)\n",
    "b"
   ]
  },
  {
   "cell_type": "markdown",
   "id": "6a6f4ef0",
   "metadata": {},
   "source": [
    "## Problem 3\n",
    "\n",
    "1. Create a function that accepts a list of integers as an argument and returns a list of floats which equals each number as a fraction of the sum of all the items in the original list.\n",
    "\n",
    "2. Next, create a second function which is the same as the first, but limit each number in the output list to two decimals.\n",
    "\n",
    "3. Create another function which builds on the previous one by allowing a \"user\" pass in an argument that defines the number of decimal places to use in the output list.\n",
    "\n",
    "4. Test each of these functions with a list of integers"
   ]
  },
  {
   "cell_type": "code",
   "execution_count": 43,
   "id": "6856ee58",
   "metadata": {},
   "outputs": [],
   "source": [
    "def fraction_list(numbers):\n",
    "    fraction_number=[]\n",
    "    a=sum(numbers)\n",
    "    for number in numbers:\n",
    "        fraction_number.append(a/number)\n",
    "    return fraction_number"
   ]
  },
  {
   "cell_type": "code",
   "execution_count": 52,
   "id": "1bd8f005",
   "metadata": {},
   "outputs": [],
   "source": [
    "def fraction_2(numbers):\n",
    "    fraction_number=[]\n",
    "    a=sum(numbers)\n",
    "    for number in numbers:\n",
    "        fraction_number.append(round(a/number,2))\n",
    "    return fraction_number"
   ]
  },
  {
   "cell_type": "code",
   "execution_count": 53,
   "id": "fb971195",
   "metadata": {},
   "outputs": [],
   "source": [
    "def fraction_decimals(numbers,decimals):\n",
    "    fraction_number=[]\n",
    "    a=sum(numbers)\n",
    "    for number in numbers:\n",
    "        fraction_number.append(round(a/number,decimals))\n",
    "    return fraction_number"
   ]
  },
  {
   "cell_type": "code",
   "execution_count": 54,
   "id": "4bea1a19",
   "metadata": {},
   "outputs": [],
   "source": [
    "b=list(range(3,10))"
   ]
  },
  {
   "cell_type": "code",
   "execution_count": 56,
   "id": "e5bf58be",
   "metadata": {},
   "outputs": [
    {
     "name": "stdout",
     "output_type": "stream",
     "text": [
      "[14.0, 10.5, 8.4, 7.0, 6.0, 5.25, 4.666666666666667] [14.0, 10.5, 8.4, 7.0, 6.0, 5.25, 4.67] [14.0, 10.5, 8.4, 7.0, 6.0, 5.2, 4.7]\n"
     ]
    }
   ],
   "source": [
    "print (fraction_list(b),fraction_2(b),fraction_decimals(b,1))"
   ]
  },
  {
   "cell_type": "markdown",
   "id": "17e43098",
   "metadata": {},
   "source": [
    "## Problem 4\n",
    "A prime number is any whole number greater than 1 that has no positive divisors besides 1 and itself. In other words, a prime number must be:\n",
    "1. an integer\n",
    "2. greater than 1\n",
    "3. divisible only by 1 and itself.\n",
    "\n",
    "Write a function is_prime(n) that accepts an argument `n` and returns `True` (boolean) if `n` is a prime number and `False` if n is not prime. For example, `is_prime(11)` should return `True` and `is_prime(12)` should return `False`.\n"
   ]
  },
  {
   "cell_type": "code",
   "execution_count": 62,
   "id": "7b43bc6c",
   "metadata": {},
   "outputs": [],
   "source": [
    "def is_prime(number):\n",
    "    if number!=round(number,0):\n",
    "        return False\n",
    "    if number<=1:\n",
    "        return False\n",
    "    for c in range(2,number):\n",
    "        if number% c==0:\n",
    "            return False\n",
    "    return True"
   ]
  },
  {
   "cell_type": "code",
   "execution_count": 65,
   "id": "a8c6ae39",
   "metadata": {},
   "outputs": [
    {
     "data": {
      "text/plain": [
       "True"
      ]
     },
     "execution_count": 65,
     "metadata": {},
     "output_type": "execute_result"
    }
   ],
   "source": [
    "is_prime(23)"
   ]
  },
  {
   "cell_type": "code",
   "execution_count": 66,
   "id": "cb3a57fc",
   "metadata": {},
   "outputs": [
    {
     "data": {
      "text/plain": [
       "False"
      ]
     },
     "execution_count": 66,
     "metadata": {},
     "output_type": "execute_result"
    }
   ],
   "source": [
    "is_prime(49)"
   ]
  },
  {
   "cell_type": "markdown",
   "id": "e556b42f",
   "metadata": {},
   "source": [
    "## Problem 5"
   ]
  },
  {
   "cell_type": "markdown",
   "id": "fd5f4463",
   "metadata": {},
   "source": [
    "1. Create a class called `Housing`, and add the following attributes to it:\n",
    "  - type\n",
    "  - area\n",
    "  - number of bedrooms\n",
    "  - value (price)\n",
    "  - year built.\n",
    "2. Create two instances of your class and populate their attributes (make 'em up)\n",
    "3. Create a method called `rent()` that calculates the estimated monthly rent for each house (assume that monthly rent is 0.4% of the value of the house)\n",
    "4. Print the rent for both instances."
   ]
  },
  {
   "cell_type": "code",
   "execution_count": 69,
   "id": "efa713df",
   "metadata": {},
   "outputs": [
    {
     "name": "stdout",
     "output_type": "stream",
     "text": [
      "House 1 Rent: $5400.00\n",
      "House 2 Rent: $7980.00\n"
     ]
    }
   ],
   "source": [
    "class Housing:\n",
    "    def __init__(self, type, area, bedrooms, price, built_year):\n",
    "        self.type = type\n",
    "        self.area = area\n",
    "        self.bedrooms = bedrooms\n",
    "        self.price = price\n",
    "        self.built_year = built_year\n",
    "    \n",
    "    def rent(self):\n",
    "        return self.price * 0.004\n",
    "\n",
    "house1 = Housing(\"House\", \"Boulder\", 3, 1350000, 1997)\n",
    "house2 = Housing(\"Condo\", \"Denver\", 2, 1995000, 2008)\n",
    "\n",
    "# Print the rent for both instances\n",
    "print(f\"House 1 Rent: ${house1.rent():.2f}\")\n",
    "print(f\"House 2 Rent: ${house2.rent():.2f}\")"
   ]
  }
 ],
 "metadata": {
  "kernelspec": {
   "display_name": "Python 3 (ipykernel)",
   "language": "python",
   "name": "python3"
  },
  "language_info": {
   "codemirror_mode": {
    "name": "ipython",
    "version": 3
   },
   "file_extension": ".py",
   "mimetype": "text/x-python",
   "name": "python",
   "nbconvert_exporter": "python",
   "pygments_lexer": "ipython3",
   "version": "3.11.3"
  },
  "toc": {
   "base_numbering": 1,
   "nav_menu": {},
   "number_sections": false,
   "sideBar": false,
   "skip_h1_title": true,
   "title_cell": "Table of Contents",
   "title_sidebar": "Contents",
   "toc_cell": false,
   "toc_position": {},
   "toc_section_display": true,
   "toc_window_display": false
  }
 },
 "nbformat": 4,
 "nbformat_minor": 5
}
