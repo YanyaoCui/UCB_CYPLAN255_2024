{
 "cells": [
  {
   "cell_type": "markdown",
   "id": "f96bdfc7",
   "metadata": {},
   "source": [
    "# Assignment 2 | Programming Logic\n",
    "\n",
    "Reminder: in all of the assignments this semester, the answer is not the only consideration, but also how you get to it. It's OK (suggested even!) to use the internet for help. But you _should_ be able to answer all of these questions using only the programming techniques you have learned in class and from the readings.\n",
    "\n",
    "A few keys for success:\n",
    "- Avoid manual data entry\n",
    "- Emphasize logic and clarity\n",
    "- Use comments, docstrings, and descriptive variable names\n",
    "- In general, less code is better. But if more lines of code makes your program easier to read or understand what its doing, then go for it."
   ]
  },
  {
   "cell_type": "markdown",
   "id": "078a9000",
   "metadata": {},
   "source": [
    "## Problem 1 \n",
    "Write a Python program to count the number of even and odd numbers from a list of numbers. Test your code by running it on a list of integers from 1 to 9. No need to make this a function unless you want to."
   ]
  },
  {
   "cell_type": "code",
   "execution_count": 1,
   "id": "55a28e09-30cf-4437-83bb-a11cab9ac299",
   "metadata": {},
   "outputs": [],
   "source": [
    "import pandas as pd\n",
    "import numpy as np"
   ]
  },
  {
   "cell_type": "code",
   "execution_count": 34,
   "id": "8eb937c5",
   "metadata": {},
   "outputs": [],
   "source": [
    "def counter_all(input):\n",
    "    evens = [x for x in input if x % float(2) == 0]\n",
    "    odds = [x for x in input if x % float(2) != 0]\n",
    "    return print('Number of even #s:',len(evens),'\\nNumber of odd #s:',len(odds))"
   ]
  },
  {
   "cell_type": "code",
   "execution_count": 35,
   "id": "1badfff8-6be9-4592-b728-3b6ce43001fe",
   "metadata": {},
   "outputs": [
    {
     "name": "stdout",
     "output_type": "stream",
     "text": [
      "Number of even #s: 4 \n",
      "Number of odd #s: 5\n"
     ]
    }
   ],
   "source": [
    "x = [1,2,3,4,5,6,7,8,9]\n",
    "counter_all(x)"
   ]
  },
  {
   "cell_type": "markdown",
   "id": "db9df1a9",
   "metadata": {
    "collapsed": true,
    "jupyter": {
     "outputs_hidden": true
    }
   },
   "source": [
    "## Problem 2\n",
    "Write a Python function that takes a list of numbers and returns a list containing only the even numbers from the original list. Test your function by running it on a list of integers from 1 to 9."
   ]
  },
  {
   "cell_type": "code",
   "execution_count": 36,
   "id": "45fcfd00",
   "metadata": {},
   "outputs": [],
   "source": [
    "def print_evens(input):\n",
    "    evens = [x for x in input if x % float(2) == 0]\n",
    "    return evens"
   ]
  },
  {
   "cell_type": "code",
   "execution_count": 38,
   "id": "d9b2d559-baab-4a90-80bb-c250a2321def",
   "metadata": {},
   "outputs": [
    {
     "data": {
      "text/plain": [
       "[2, 4, 6, 8]"
      ]
     },
     "execution_count": 38,
     "metadata": {},
     "output_type": "execute_result"
    }
   ],
   "source": [
    "print_evens(x)"
   ]
  },
  {
   "cell_type": "markdown",
   "id": "6a6f4ef0",
   "metadata": {},
   "source": [
    "## Problem 3\n",
    "\n",
    "1. Create a function that accepts a list of integers as an argument and returns a list of floats which equals each number as a fraction of the sum of all the items in the original list.\n",
    "\n",
    "2. Next, create a second function which is the same as the first, but limit each number in the output list to two decimals.\n",
    "\n",
    "3. Create another function which builds on the previous one by allowing a \"user\" pass in an argument that defines the number of decimal places to use in the output list.\n",
    "\n",
    "4. Test each of these functions with a list of integers"
   ]
  },
  {
   "cell_type": "code",
   "execution_count": 67,
   "id": "6856ee58",
   "metadata": {},
   "outputs": [],
   "source": [
    "def prop(input):\n",
    "    sum = np.sum(input)\n",
    "    floats = [float(x)/sum for x in input]\n",
    "    return floats\n",
    "\n",
    "def prop_round(input):\n",
    "    sum = np.sum(input)\n",
    "    floats = [(float(x)/sum).round(decimals=2) for x in input]\n",
    "    return floats\n",
    "\n",
    "def prop_input(input, dec):\n",
    "    sum = np.sum(input)\n",
    "    floats = [(float(x)/sum).round(decimals=dec) for x in input]\n",
    "    return floats"
   ]
  },
  {
   "cell_type": "code",
   "execution_count": 74,
   "id": "2bb65d51-a83a-4f38-a510-37e271e9e596",
   "metadata": {},
   "outputs": [
    {
     "name": "stdout",
     "output_type": "stream",
     "text": [
      "[0.022222222222222223, 0.044444444444444446, 0.06666666666666667, 0.08888888888888889, 0.1111111111111111, 0.13333333333333333, 0.15555555555555556, 0.17777777777777778, 0.2]\n",
      "[0.02, 0.04, 0.07, 0.09, 0.11, 0.13, 0.16, 0.18, 0.2]\n",
      "[0.02222, 0.04444, 0.06667, 0.08889, 0.11111, 0.13333, 0.15556, 0.17778, 0.2]\n"
     ]
    }
   ],
   "source": [
    "print(prop(x))\n",
    "print(prop_round(x))\n",
    "print(prop_input(x, 5))"
   ]
  },
  {
   "cell_type": "markdown",
   "id": "17e43098",
   "metadata": {},
   "source": [
    "## Problem 4\n",
    "A prime number is any whole number greater than 1 that has no positive divisors besides 1 and itself. In other words, a prime number must be:\n",
    "1. an integer\n",
    "2. greater than 1\n",
    "3. divisible only by 1 and itself.\n",
    "\n",
    "Write a function is_prime(n) that accepts an argument `n` and returns `True` (boolean) if `n` is a prime number and `False` if n is not prime. For example, `is_prime(11)` should return `True` and `is_prime(12)` should return `False`.\n"
   ]
  },
  {
   "cell_type": "code",
   "execution_count": 95,
   "id": "7b43bc6c",
   "metadata": {},
   "outputs": [],
   "source": [
    "def is_prime(n):\n",
    "    upper_bound = n+1\n",
    "    values_lower = list(range(upper_bound))[1:upper_bound]\n",
    "    if (type(n) == int) & (n > 1) &  (len([x for x in values_lower if n % float(x) == 0]) == 2):\n",
    "        return True\n",
    "    else:\n",
    "        return False"
   ]
  },
  {
   "cell_type": "code",
   "execution_count": 97,
   "id": "cda16e5a-843e-43d9-bca9-da808bde3feb",
   "metadata": {},
   "outputs": [
    {
     "data": {
      "text/plain": [
       "True"
      ]
     },
     "execution_count": 97,
     "metadata": {},
     "output_type": "execute_result"
    }
   ],
   "source": [
    "is_prime(11)"
   ]
  },
  {
   "cell_type": "code",
   "execution_count": 122,
   "id": "e4064209-c19b-4460-9140-d9cf7cdbfc19",
   "metadata": {},
   "outputs": [
    {
     "data": {
      "text/plain": [
       "False"
      ]
     },
     "execution_count": 122,
     "metadata": {},
     "output_type": "execute_result"
    }
   ],
   "source": [
    "is_prime(12)"
   ]
  },
  {
   "cell_type": "markdown",
   "id": "e556b42f",
   "metadata": {},
   "source": [
    "## Problem 5"
   ]
  },
  {
   "cell_type": "markdown",
   "id": "fd5f4463",
   "metadata": {},
   "source": [
    "1. Create a class called `Housing`, and add the following attributes to it:\n",
    "  - type\n",
    "  - area\n",
    "  - number of bedrooms\n",
    "  - value (price)\n",
    "  - year built.\n",
    "2. Create two instances of your class and populate their attributes (make 'em up)\n",
    "3. Create a method called `rent()` that calculates the estimated monthly rent for each house (assume that monthly rent is 0.4% of the value of the house)\n",
    "4. Print the rent for both instances."
   ]
  },
  {
   "cell_type": "code",
   "execution_count": 117,
   "id": "efa713df",
   "metadata": {},
   "outputs": [],
   "source": [
    "class Housing:\n",
    "\n",
    "    def __init__(self, type, area, numbeds, price, year):\n",
    "        self.type = type\n",
    "        self.area = area\n",
    "        self.numbeds = numbeds\n",
    "        self.price = price\n",
    "        self.year = year\n",
    "\n",
    "    def rent(self):\n",
    "        \"\"\"calculates the estimated monthly rent for each house\n",
    "        \"\"\"\n",
    "        return 0.04*self.price"
   ]
  },
  {
   "cell_type": "code",
   "execution_count": 118,
   "id": "da2307bb-d22f-4ddc-8814-b11b9455bfd1",
   "metadata": {},
   "outputs": [],
   "source": [
    "house_1 = Housing('condo', 1200, 2, 750000, 2002)\n",
    "house_2 = Housing('single family', 3000, 3, 1200000, 1995)"
   ]
  },
  {
   "cell_type": "code",
   "execution_count": 121,
   "id": "5b5e0721-243f-4b06-82bc-837c79a1bf1e",
   "metadata": {},
   "outputs": [
    {
     "name": "stdout",
     "output_type": "stream",
     "text": [
      "30000.0\n",
      "48000.0\n"
     ]
    }
   ],
   "source": [
    "print(house_1.rent())\n",
    "print(house_2.rent())"
   ]
  }
 ],
 "metadata": {
  "kernelspec": {
   "display_name": "pp275",
   "language": "python",
   "name": "pp275"
  },
  "language_info": {
   "codemirror_mode": {
    "name": "ipython",
    "version": 3
   },
   "file_extension": ".py",
   "mimetype": "text/x-python",
   "name": "python",
   "nbconvert_exporter": "python",
   "pygments_lexer": "ipython3",
   "version": "3.9.13"
  },
  "toc": {
   "base_numbering": 1,
   "nav_menu": {},
   "number_sections": false,
   "sideBar": false,
   "skip_h1_title": true,
   "title_cell": "Table of Contents",
   "title_sidebar": "Contents",
   "toc_cell": false,
   "toc_position": {},
   "toc_section_display": true,
   "toc_window_display": false
  }
 },
 "nbformat": 4,
 "nbformat_minor": 5
}
