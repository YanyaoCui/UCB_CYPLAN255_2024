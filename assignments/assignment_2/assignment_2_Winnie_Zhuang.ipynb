{
 "cells": [
  {
   "cell_type": "markdown",
   "id": "f96bdfc7",
   "metadata": {},
   "source": [
    "# Assignment 2 | Programming Logic\n",
    "\n",
    "Reminder: in all of the assignments this semester, the answer is not the only consideration, but also how you get to it. It's OK (suggested even!) to use the internet for help. But you _should_ be able to answer all of these questions using only the programming techniques you have learned in class and from the readings.\n",
    "\n",
    "A few keys for success:\n",
    "- Avoid manual data entry\n",
    "- Emphasize logic and clarity\n",
    "- Use comments, docstrings, and descriptive variable names\n",
    "- In general, less code is better. But if more lines of code makes your program easier to read or understand what its doing, then go for it."
   ]
  },
  {
   "cell_type": "markdown",
   "id": "078a9000",
   "metadata": {},
   "source": [
    "## Problem 1 \n",
    "Write a Python program to count the number of even and odd numbers from a list of numbers. Test your code by running it on a list of integers from 1 to 9. No need to make this a function unless you want to."
   ]
  },
  {
   "cell_type": "code",
   "execution_count": 1,
   "id": "8eb937c5",
   "metadata": {},
   "outputs": [
    {
     "name": "stdout",
     "output_type": "stream",
     "text": [
      "The number of even numbers in the list is: 4 \n",
      "and the number of odd numbers is: 5\n"
     ]
    }
   ],
   "source": [
    "test_list = [1, 2, 3, 4, 5, 6, 7, 8, 9]\n",
    "count_even = 0\n",
    "count_odd = 0\n",
    "\n",
    "for i in test_list:\n",
    "    if i % 2 == 0:\n",
    "        count_even += 1\n",
    "    else:\n",
    "        count_odd += 1\n",
    "\n",
    "print(\"The number of even numbers in the list is:\", count_even, \"\\nand the number of odd numbers is:\", count_odd)"
   ]
  },
  {
   "cell_type": "markdown",
   "id": "db9df1a9",
   "metadata": {
    "collapsed": true
   },
   "source": [
    "## Problem 2\n",
    "Write a Python function that takes a list of numbers and returns a list containing only the even numbers from the original list. Test your function by running it on a list of integers from 1 to 9."
   ]
  },
  {
   "cell_type": "code",
   "execution_count": 2,
   "id": "45fcfd00",
   "metadata": {},
   "outputs": [
    {
     "name": "stdout",
     "output_type": "stream",
     "text": [
      "[2, 4, 6, 8]\n"
     ]
    }
   ],
   "source": [
    "test_list = [1, 2, 3, 4, 5, 6, 7, 8, 9]\n",
    "even_list = []\n",
    "\n",
    "for i in test_list:\n",
    "    if i % 2 == 0:\n",
    "        even_list.append(i)\n",
    "\n",
    "print(even_list)"
   ]
  },
  {
   "cell_type": "markdown",
   "id": "6a6f4ef0",
   "metadata": {},
   "source": [
    "## Problem 3\n",
    "\n",
    "1. Create a function that accepts a list of integers as an argument and returns a list of floats which equals each number as a fraction of the sum of all the items in the original list.\n",
    "\n",
    "2. Next, create a second function which is the same as the first, but limit each number in the output list to two decimals.\n",
    "\n",
    "3. Create another function which builds on the previous one by allowing a \"user\" pass in an argument that defines the number of decimal places to use in the output list.\n",
    "\n",
    "4. Test each of these functions with a list of integers"
   ]
  },
  {
   "cell_type": "code",
   "execution_count": 3,
   "id": "6856ee58",
   "metadata": {},
   "outputs": [],
   "source": [
    "# Part 1\n",
    "def int_to_float_fraction(numbers: list[int]) -> list[float]:\n",
    "    list_sum = sum(numbers)\n",
    "    return [i / list_sum for i in numbers]"
   ]
  },
  {
   "cell_type": "code",
   "execution_count": 4,
   "id": "4e2dc720",
   "metadata": {},
   "outputs": [],
   "source": [
    "# Part 2\n",
    "def int_to_float_fraction_rounded2(numbers: list[int]) -> list[float]:\n",
    "    list_sum = sum(numbers)\n",
    "    return [round(i / list_sum,2) for i in numbers]"
   ]
  },
  {
   "cell_type": "code",
   "execution_count": 5,
   "id": "22796fd0",
   "metadata": {},
   "outputs": [],
   "source": [
    "# Part 3\n",
    "def int_to_float_fraction_rounded(numbers: list[int], round_to) -> list[float]:\n",
    "    list_sum = sum(numbers)\n",
    "    return [round(i / list_sum,round_to) for i in numbers]"
   ]
  },
  {
   "cell_type": "code",
   "execution_count": 6,
   "id": "ecf77957",
   "metadata": {},
   "outputs": [
    {
     "name": "stdout",
     "output_type": "stream",
     "text": [
      "The result of the function in Part 1 is: [0.06666666666666667, 0.13333333333333333, 0.2, 0.26666666666666666, 0.3333333333333333]\n",
      "The result of the function in Part 2 is: [0.07, 0.13, 0.2, 0.27, 0.33] where each number in the output list is limited to 2 decimals\n",
      "The result of the function in Part 3 is: [0.06667, 0.13333, 0.2, 0.26667, 0.33333] where each number in the output list is limited to a user-defined amount of decimals\n"
     ]
    }
   ],
   "source": [
    "# Part 4\n",
    "# Testing Part 1 function\n",
    "test_list = [1, 2, 3, 4, 5]\n",
    "print(\"The result of the function in Part 1 is:\", int_to_float_fraction(test_list))\n",
    "\n",
    "# Testing Part 2 function\n",
    "print(\"The result of the function in Part 2 is:\", int_to_float_fraction_rounded2(test_list), \"where each number in the output list is limited to 2 decimals\")\n",
    "\n",
    "# Testing Part 3 function, with user passing in 5 for round_to as the desired decimal space value as an example of how this function would be used\n",
    "print(\"The result of the function in Part 3 is:\", int_to_float_fraction_rounded(test_list, 5), \"where each number in the output list is limited to a user-defined amount of decimals\")"
   ]
  },
  {
   "cell_type": "markdown",
   "id": "17e43098",
   "metadata": {},
   "source": [
    "## Problem 4\n",
    "A prime number is any whole number greater than 1 that has no positive divisors besides 1 and itself. In other words, a prime number must be:\n",
    "1. an integer\n",
    "2. greater than 1\n",
    "3. divisible only by 1 and itself.\n",
    "\n",
    "Write a function is_prime(n) that accepts an argument `n` and returns `True` (boolean) if `n` is a prime number and `False` if n is not prime. For example, `is_prime(11)` should return `True` and `is_prime(12)` should return `False`.\n"
   ]
  },
  {
   "cell_type": "code",
   "execution_count": 7,
   "id": "7b43bc6c",
   "metadata": {},
   "outputs": [],
   "source": [
    "def is_prime(n):\n",
    "    if n == round(n): # Checks if input is an integer\n",
    "        if n > 1: # Checks if input is greater than 1\n",
    "            if n % 1 == 0 and n % n == 0: # Checks if input is divisible by 1 and itself\n",
    "                if n == 2: # 2 is the only even prime number\n",
    "                    return True\n",
    "                if n % 2 == 0: # Checks if input is any other even number that is not 2\n",
    "                    return False\n",
    "                if n > 3 and n % 3 == 0: # Checks if input is any other odd number that is not 3\n",
    "                    return False\n",
    "                else:\n",
    "                    return True\n",
    "            else:\n",
    "                return False\n",
    "        else:\n",
    "            return False\n",
    "    else:\n",
    "        return False"
   ]
  },
  {
   "cell_type": "markdown",
   "id": "e556b42f",
   "metadata": {},
   "source": [
    "## Problem 5"
   ]
  },
  {
   "cell_type": "markdown",
   "id": "fd5f4463",
   "metadata": {},
   "source": [
    "1. Create a class called `Housing`, and add the following attributes to it:\n",
    "  - type\n",
    "  - area\n",
    "  - number of bedrooms\n",
    "  - value (price)\n",
    "  - year built.\n",
    "2. Create two instances of your class and populate their attributes (make 'em up)\n",
    "3. Create a method called `rent()` that calculates the estimated monthly rent for each house (assume that monthly rent is 0.4% of the value of the house)\n",
    "4. Print the rent for both instances."
   ]
  },
  {
   "cell_type": "code",
   "execution_count": 30,
   "id": "efa713df",
   "metadata": {},
   "outputs": [],
   "source": [
    "# Part 1\n",
    "class Housing:\n",
    "    def __init__(self, type, area, bedrooms, value, year):\n",
    "        self.type = type\n",
    "        self.area = area\n",
    "        self.bedrooms = bedrooms\n",
    "        self.value = value\n",
    "        self.year = year"
   ]
  },
  {
   "cell_type": "code",
   "execution_count": 31,
   "id": "16ef2892",
   "metadata": {},
   "outputs": [],
   "source": [
    "# Part 2\n",
    "house_1 = Housing(\"Single Family\", \"Piedmont\", 5, 3500000, 1978)\n",
    "house_2 = Housing(\"Apartment\", \"Berkeley\", 2, 1000000, 2006)"
   ]
  },
  {
   "cell_type": "code",
   "execution_count": 32,
   "id": "3257af79",
   "metadata": {},
   "outputs": [],
   "source": [
    "# Part 3\n",
    "class Housing:\n",
    "    def __init__(self, type, area, bedrooms, value, year):\n",
    "        self.type = type\n",
    "        self.area = area\n",
    "        self.bedrooms = bedrooms\n",
    "        self.value = value\n",
    "        self.year = year\n",
    "        \n",
    "    def rent(self):\n",
    "        return self.value * 0.4\n",
    "\n",
    "house_1 = Housing(\"Single Family\", \"Piedmont\", 5, 3500000, 1978)\n",
    "house_2 = Housing(\"Apartment\", \"Berkeley\", 2, 1000000, 2006)\n",
    "\n",
    "rent_amount_1 = house_1.rent()\n",
    "rent_amount_2 = house_2.rent()"
   ]
  },
  {
   "cell_type": "code",
   "execution_count": 33,
   "id": "7a0aaf24",
   "metadata": {},
   "outputs": [
    {
     "name": "stdout",
     "output_type": "stream",
     "text": [
      "The rent for House 1 is: $1400000.00\n",
      "The rent for House 2 is: $400000.00\n"
     ]
    }
   ],
   "source": [
    "# Part 4\n",
    "print(\"The rent for House 1 is: $\" + \"{:.2f}\".format(rent_amount_1))\n",
    "print(\"The rent for House 2 is: $\" + \"{:.2f}\".format(rent_amount_2))"
   ]
  }
 ],
 "metadata": {
  "kernelspec": {
   "display_name": "Python 3 (ipykernel)",
   "language": "python",
   "name": "python3"
  },
  "language_info": {
   "codemirror_mode": {
    "name": "ipython",
    "version": 3
   },
   "file_extension": ".py",
   "mimetype": "text/x-python",
   "name": "python",
   "nbconvert_exporter": "python",
   "pygments_lexer": "ipython3",
   "version": "3.9.13"
  },
  "toc": {
   "base_numbering": 1,
   "nav_menu": {},
   "number_sections": false,
   "sideBar": false,
   "skip_h1_title": true,
   "title_cell": "Table of Contents",
   "title_sidebar": "Contents",
   "toc_cell": false,
   "toc_position": {},
   "toc_section_display": true,
   "toc_window_display": false
  }
 },
 "nbformat": 4,
 "nbformat_minor": 5
}
