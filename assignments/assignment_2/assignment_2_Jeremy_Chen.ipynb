{
 "cells": [
  {
   "cell_type": "markdown",
   "id": "f96bdfc7",
   "metadata": {},
   "source": [
    "# Assignment 2 | Programming Logic\n",
    "\n",
    "Reminder: in all of the assignments this semester, the answer is not the only consideration, but also how you get to it. It's OK (suggested even!) to use the internet for help. But you _should_ be able to answer all of these questions using only the programming techniques you have learned in class and from the readings.\n",
    "\n",
    "A few keys for success:\n",
    "- Avoid manual data entry\n",
    "- Emphasize logic and clarity\n",
    "- Use comments, docstrings, and descriptive variable names\n",
    "- In general, less code is better. But if more lines of code makes your program easier to read or understand what its doing, then go for it."
   ]
  },
  {
   "cell_type": "markdown",
   "id": "078a9000",
   "metadata": {},
   "source": [
    "## Problem 1 \n",
    "Write a Python program to count the number of even and odd numbers from a list of numbers. Test your code by running it on a list of integers from 1 to 9. No need to make this a function unless you want to."
   ]
  },
  {
   "cell_type": "code",
   "execution_count": 1,
   "id": "d7bb7590-bda6-47f8-9245-1386b07d4a71",
   "metadata": {},
   "outputs": [],
   "source": [
    "test_1 = [1, 2, 3, 4, 5, 6, 7, 8, 9]"
   ]
  },
  {
   "cell_type": "code",
   "execution_count": 2,
   "id": "43a4c7e2-176b-4b0c-83aa-1d025dfa5a55",
   "metadata": {},
   "outputs": [
    {
     "name": "stdout",
     "output_type": "stream",
     "text": [
      "number of even numbers: 4\n",
      "number of odd numbers: 5\n"
     ]
    }
   ],
   "source": [
    "num_even = 0\n",
    "num_odd = 0\n",
    "# list_even = []\n",
    "# list_odd = []\n",
    "\n",
    "for items in test_1:\n",
    "    if (items % 2 == 0):\n",
    "        num_even += 1\n",
    "        # list_even.append(items)\n",
    "    else:\n",
    "        num_odd += 1\n",
    "        # list_odd.append(items)\n",
    "        \n",
    "print(\"number of even numbers:\", num_even)\n",
    "print(\"number of odd numbers:\", num_odd)\n",
    "# print(list_even)\n",
    "# print(list_odd)"
   ]
  },
  {
   "cell_type": "markdown",
   "id": "db9df1a9",
   "metadata": {
    "collapsed": true,
    "jupyter": {
     "outputs_hidden": true
    }
   },
   "source": [
    "## Problem 2\n",
    "Write a Python function that takes a list of numbers and returns a list containing only the even numbers from the original list. Test your function by running it on a list of integers from 1 to 9."
   ]
  },
  {
   "cell_type": "code",
   "execution_count": 3,
   "id": "89647e59-c2da-4b1b-aa39-049910e897f5",
   "metadata": {},
   "outputs": [],
   "source": [
    "def even_numbers_from_list(list = []):\n",
    "    \n",
    "    list_even = []\n",
    "\n",
    "    for items in list:\n",
    "        if (items % 2 == 0):\n",
    "            list_even.append(items)\n",
    "            \n",
    "    return list_even"
   ]
  },
  {
   "cell_type": "code",
   "execution_count": 4,
   "id": "21d6588b-e92f-4375-96df-af2bb021e074",
   "metadata": {},
   "outputs": [],
   "source": [
    "test_2 = [1, 2, 3, 4, 5, 6, 7, 8, 9]"
   ]
  },
  {
   "cell_type": "code",
   "execution_count": 5,
   "id": "82132a37-d1af-4fe8-9a71-b84cced08dda",
   "metadata": {},
   "outputs": [
    {
     "data": {
      "text/plain": [
       "[2, 4, 6, 8]"
      ]
     },
     "execution_count": 5,
     "metadata": {},
     "output_type": "execute_result"
    }
   ],
   "source": [
    "even_numbers_from_list(test_2)"
   ]
  },
  {
   "cell_type": "markdown",
   "id": "6a6f4ef0",
   "metadata": {},
   "source": [
    "## Problem 3\n",
    "\n",
    "1. Create a function that accepts a list of integers as an argument and returns a list of floats which equals each number as a fraction of the sum of all the items in the original list.\n",
    "\n",
    "2. Next, create a second function which is the same as the first, but limit each number in the output list to two decimals.\n",
    "\n",
    "3. Create another function which builds on the previous one by allowing a \"user\" pass in an argument that defines the number of decimal places to use in the output list.\n",
    "\n",
    "4. Test each of these functions with a list of integers"
   ]
  },
  {
   "cell_type": "code",
   "execution_count": 6,
   "id": "6856ee58",
   "metadata": {},
   "outputs": [],
   "source": [
    "def fraction_list(list = []):\n",
    "    \n",
    "    list_sum = sum(list)\n",
    "    fraction = [items / list_sum for items in list]\n",
    "    return fraction"
   ]
  },
  {
   "cell_type": "code",
   "execution_count": 7,
   "id": "bf55b1e1-141c-4966-9f95-a98da710e2fe",
   "metadata": {},
   "outputs": [],
   "source": [
    "def fraction_list_limit_two_decimals(list = []):\n",
    "    \n",
    "    list_sum = sum(list)\n",
    "    fraction = [round(items / list_sum, 2) for items in list]\n",
    "    return fraction"
   ]
  },
  {
   "cell_type": "code",
   "execution_count": 8,
   "id": "31e48b8d-6d5e-43f7-b1d4-164c0fed9407",
   "metadata": {},
   "outputs": [],
   "source": [
    "def fraction_list_limit_n_decimals_from_user(list = []):\n",
    "    \n",
    "    list_sum = sum(list)\n",
    "    \n",
    "    \"\"\"Makes sure that the user input is an integer\"\"\"\n",
    "    while True:\n",
    "        try:\n",
    "           input_num_decimals = int(input(\"Enter the number of decimal places to use:\"))\n",
    "           break\n",
    "        except ValueError:\n",
    "           print(\"Please enter an integer\")\n",
    "           continue\n",
    "        else:\n",
    "            break\n",
    "            \n",
    "    fraction = [round(items / list_sum, input_num_decimals ) for items in list]\n",
    "    return fraction"
   ]
  },
  {
   "cell_type": "code",
   "execution_count": 9,
   "id": "b8fd6096-b50f-4fb3-a4c7-5665dfdb548a",
   "metadata": {},
   "outputs": [
    {
     "data": {
      "text/plain": [
       "[0.022222222222222223,\n",
       " 0.044444444444444446,\n",
       " 0.06666666666666667,\n",
       " 0.08888888888888889,\n",
       " 0.1111111111111111,\n",
       " 0.13333333333333333,\n",
       " 0.15555555555555556,\n",
       " 0.17777777777777778,\n",
       " 0.2]"
      ]
     },
     "execution_count": 9,
     "metadata": {},
     "output_type": "execute_result"
    }
   ],
   "source": [
    "test_3 = [1, 2, 3, 4, 5, 6, 7, 8, 9]\n",
    "fraction_list(test_3)"
   ]
  },
  {
   "cell_type": "code",
   "execution_count": 10,
   "id": "0b390c6a-b38b-4572-9ac8-8bed91d1cad5",
   "metadata": {},
   "outputs": [
    {
     "data": {
      "text/plain": [
       "[0.02, 0.04, 0.07, 0.09, 0.11, 0.13, 0.16, 0.18, 0.2]"
      ]
     },
     "execution_count": 10,
     "metadata": {},
     "output_type": "execute_result"
    }
   ],
   "source": [
    "fraction_list_limit_two_decimals(test_3)"
   ]
  },
  {
   "cell_type": "code",
   "execution_count": 11,
   "id": "f39e3882-0cc3-4f2d-9295-a6612b9c4dd2",
   "metadata": {},
   "outputs": [
    {
     "name": "stdin",
     "output_type": "stream",
     "text": [
      "Enter the number of decimal places to use: 3\n"
     ]
    },
    {
     "data": {
      "text/plain": [
       "[0.022, 0.044, 0.067, 0.089, 0.111, 0.133, 0.156, 0.178, 0.2]"
      ]
     },
     "execution_count": 11,
     "metadata": {},
     "output_type": "execute_result"
    }
   ],
   "source": [
    "fraction_list_limit_n_decimals_from_user(test_3)"
   ]
  },
  {
   "cell_type": "markdown",
   "id": "17e43098",
   "metadata": {},
   "source": [
    "## Problem 4\n",
    "A prime number is any whole number greater than 1 that has no positive divisors besides 1 and itself. In other words, a prime number must be:\n",
    "1. an integer\n",
    "2. greater than 1\n",
    "3. divisible only by 1 and itself.\n",
    "\n",
    "Write a function is_prime(n) that accepts an argument `n` and returns `True` (boolean) if `n` is a prime number and `False` if n is not prime. For example, `is_prime(11)` should return `True` and `is_prime(12)` should return `False`.\n"
   ]
  },
  {
   "cell_type": "code",
   "execution_count": 12,
   "id": "6392ea99-8b05-4ce4-a6a8-547cec564da9",
   "metadata": {},
   "outputs": [],
   "source": [
    "def is_prime(n):\n",
    "    if not isinstance(n, int):\n",
    "        print(\"Invalid Input\")\n",
    "    else:\n",
    "        if n > 1:\n",
    "            for i in range(2, n):\n",
    "                if n % i == 0:\n",
    "                    return False\n",
    "            return True\n",
    "        else:\n",
    "            return False"
   ]
  },
  {
   "cell_type": "code",
   "execution_count": 13,
   "id": "4a300a9f-f173-4c7b-85c7-66d2f3537f4d",
   "metadata": {},
   "outputs": [
    {
     "data": {
      "text/plain": [
       "True"
      ]
     },
     "execution_count": 13,
     "metadata": {},
     "output_type": "execute_result"
    }
   ],
   "source": [
    "is_prime(11)"
   ]
  },
  {
   "cell_type": "code",
   "execution_count": 14,
   "id": "df1e894e-9e56-4efd-a5e9-f3b7e9613b37",
   "metadata": {},
   "outputs": [
    {
     "data": {
      "text/plain": [
       "False"
      ]
     },
     "execution_count": 14,
     "metadata": {},
     "output_type": "execute_result"
    }
   ],
   "source": [
    "is_prime(12)"
   ]
  },
  {
   "cell_type": "markdown",
   "id": "e556b42f",
   "metadata": {},
   "source": [
    "## Problem 5"
   ]
  },
  {
   "cell_type": "markdown",
   "id": "fd5f4463",
   "metadata": {},
   "source": [
    "1. Create a class called `Housing`, and add the following attributes to it:\n",
    "  - type\n",
    "  - area\n",
    "  - number of bedrooms\n",
    "  - value (price)\n",
    "  - year built.\n",
    "2. Create two instances of your class and populate their attributes (make 'em up)\n",
    "3. Create a method called `rent()` that calculates the estimated monthly rent for each house (assume that monthly rent is 0.4% of the value of the house)\n",
    "4. Print the rent for both instances."
   ]
  },
  {
   "cell_type": "code",
   "execution_count": 15,
   "id": "efa713df",
   "metadata": {},
   "outputs": [],
   "source": [
    "class Housing:\n",
    "\n",
    "    def __init__(self, type, area, num_of_bedrooms, value, year_built):\n",
    "        self.type = type\n",
    "        self.area = area\n",
    "        self.num_of_bedrooms = num_of_bedrooms\n",
    "        self.value = value\n",
    "        self.year_built = year_built\n",
    "\n",
    "    def rent(self):\n",
    "        return self.value * 0.004"
   ]
  },
  {
   "cell_type": "code",
   "execution_count": 16,
   "id": "734d8897-c90d-4584-8131-97b245e2a252",
   "metadata": {},
   "outputs": [],
   "source": [
    "house_1 = Housing('Townhouse', 2500, 8, 1800000, '1996')\n",
    "house_2 = Housing('Condo', 1200, 3, 1200000, '2005')"
   ]
  },
  {
   "cell_type": "code",
   "execution_count": 17,
   "id": "c1197e08-ba6f-411e-ab31-7d27c6c9b924",
   "metadata": {},
   "outputs": [
    {
     "name": "stdout",
     "output_type": "stream",
     "text": [
      "7200.0\n",
      "4800.0\n"
     ]
    }
   ],
   "source": [
    "print(house_1.rent())\n",
    "print(house_2.rent())"
   ]
  },
  {
   "cell_type": "code",
   "execution_count": null,
   "id": "7efbaf4b-a266-43e3-9ca6-f69e409e646c",
   "metadata": {},
   "outputs": [],
   "source": []
  }
 ],
 "metadata": {
  "kernelspec": {
   "display_name": "Python 3 (ipykernel)",
   "language": "python",
   "name": "python3"
  },
  "language_info": {
   "codemirror_mode": {
    "name": "ipython",
    "version": 3
   },
   "file_extension": ".py",
   "mimetype": "text/x-python",
   "name": "python",
   "nbconvert_exporter": "python",
   "pygments_lexer": "ipython3",
   "version": "3.10.6"
  },
  "toc": {
   "base_numbering": 1,
   "nav_menu": {},
   "number_sections": false,
   "sideBar": false,
   "skip_h1_title": true,
   "title_cell": "Table of Contents",
   "title_sidebar": "Contents",
   "toc_cell": false,
   "toc_position": {},
   "toc_section_display": true,
   "toc_window_display": false
  }
 },
 "nbformat": 4,
 "nbformat_minor": 5
}
