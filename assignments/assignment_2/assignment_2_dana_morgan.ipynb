{
 "cells": [
  {
   "cell_type": "markdown",
   "id": "f96bdfc7",
   "metadata": {},
   "source": [
    "# Assignment 2 | Programming Logic\n",
    "\n",
    "Reminder: in all of the assignments this semester, the answer is not the only consideration, but also how you get to it. It's OK (suggested even!) to use the internet for help. But you _should_ be able to answer all of these questions using only the programming techniques you have learned in class and from the readings.\n",
    "\n",
    "A few keys for success:\n",
    "- Avoid manual data entry\n",
    "- Emphasize logic and clarity\n",
    "- Use comments, docstrings, and descriptive variable names\n",
    "- In general, less code is better. But if more lines of code makes your program easier to read or understand what its doing, then go for it."
   ]
  },
  {
   "cell_type": "markdown",
   "id": "078a9000",
   "metadata": {},
   "source": [
    "## Problem 1 \n",
    "Write a Python program to count the number of even and odd numbers from a list of numbers. Test your code by running it on a list of integers from 1 to 9. No need to make this a function unless you want to."
   ]
  },
  {
   "cell_type": "code",
   "execution_count": 9,
   "id": "8eb937c5",
   "metadata": {},
   "outputs": [
    {
     "name": "stdout",
     "output_type": "stream",
     "text": [
      "[1, 2, 3, 4, 5, 6, 7, 8, 9]\n",
      "Even:  4\n",
      "Odd:  5\n"
     ]
    }
   ],
   "source": [
    "a = list(range(1,10,1))\n",
    "only_odd = [x for x in a if x%2 == 1]\n",
    "odd_count = len(only_odd)\n",
    "print(a)\n",
    "print ('Even: ', len(a) - odd_count)\n",
    "print ('Odd: ', odd_count)"
   ]
  },
  {
   "cell_type": "markdown",
   "id": "db9df1a9",
   "metadata": {
    "collapsed": true
   },
   "source": [
    "## Problem 2\n",
    "Write a Python function that takes a list of numbers and returns a list containing only the even numbers from the original list. Test your function by running it on a list of integers from 1 to 9."
   ]
  },
  {
   "cell_type": "code",
   "execution_count": 13,
   "id": "45fcfd00",
   "metadata": {},
   "outputs": [
    {
     "data": {
      "text/plain": [
       "[2, 4, 6, 8]"
      ]
     },
     "execution_count": 13,
     "metadata": {},
     "output_type": "execute_result"
    }
   ],
   "source": [
    "only_even = [x for x in a if x%2 == 0]\n",
    "only_even"
   ]
  },
  {
   "cell_type": "markdown",
   "id": "6a6f4ef0",
   "metadata": {},
   "source": [
    "## Problem 3\n",
    "\n",
    "1. Create a function that accepts a list of integers as an argument and returns a list of floats which equals each number as a fraction of the sum of all the items in the original list.\n",
    "\n",
    "2. Next, create a second function which is the same as the first, but limit each number in the output list to two decimals.\n",
    "\n",
    "3. Create another function which builds on the previous one by allowing a \"user\" pass in an argument that defines the number of decimal places to use in the output list.\n",
    "\n",
    "4. Test each of these functions with a list of integers"
   ]
  },
  {
   "cell_type": "code",
   "execution_count": 44,
   "id": "6856ee58",
   "metadata": {},
   "outputs": [],
   "source": [
    "#1\n",
    "import numpy as np\n",
    "b = np.array (a)\n",
    "def fraction_of_sum(b):\n",
    "    fraction = np.array(b) / np.sum(b)\n",
    "    return fraction"
   ]
  },
  {
   "cell_type": "code",
   "execution_count": 48,
   "id": "03165bf2",
   "metadata": {
    "scrolled": true
   },
   "outputs": [],
   "source": [
    "#2\n",
    "def fraction_2_dec(b):\n",
    "    fraction = np.array(b) / np.sum(b)\n",
    "    fraction_result_2_dec = np.round(fraction,2)\n",
    "    return fraction_result_2_dec\n",
    "    "
   ]
  },
  {
   "cell_type": "code",
   "execution_count": 49,
   "id": "66d749f6",
   "metadata": {},
   "outputs": [],
   "source": [
    "#3\n",
    "def define_decimal_places(fraction_of_sum, decimal_places):\n",
    "    decimal_places = int(input(\"Enter the number of decimal places: \"))\n",
    "    formatted_fractions = [round(x, decimal_places) for x in fraction_of_sum]\n",
    "    return formatted_fractions"
   ]
  },
  {
   "cell_type": "code",
   "execution_count": 52,
   "id": "60c26aa6",
   "metadata": {},
   "outputs": [
    {
     "name": "stdout",
     "output_type": "stream",
     "text": [
      "[7 1 4 9 6 1 4 8 1 6]\n",
      "[0.14893617 0.0212766  0.08510638 0.19148936 0.12765957 0.0212766\n",
      " 0.08510638 0.17021277 0.0212766  0.12765957]\n"
     ]
    }
   ],
   "source": [
    "#4\n",
    "c = np.random.randint(1,10,10)\n",
    "print(c)\n",
    "print(fraction_of_sum(c))"
   ]
  },
  {
   "cell_type": "code",
   "execution_count": 57,
   "id": "1545fe38",
   "metadata": {},
   "outputs": [
    {
     "name": "stdout",
     "output_type": "stream",
     "text": [
      "[0.15 0.02 0.09 0.19 0.13 0.02 0.09 0.17 0.02 0.13]\n"
     ]
    }
   ],
   "source": [
    "#4\n",
    "print (fraction_2_dec(c))"
   ]
  },
  {
   "cell_type": "code",
   "execution_count": 59,
   "id": "fcf63c4f",
   "metadata": {},
   "outputs": [
    {
     "name": "stdout",
     "output_type": "stream",
     "text": [
      "Enter the number of decimal places: 3\n",
      "[7, 1, 4, 9, 6, 1, 4, 8, 1, 6]\n"
     ]
    }
   ],
   "source": [
    "#4\n",
    "print (define_decimal_places(c,x))"
   ]
  },
  {
   "cell_type": "markdown",
   "id": "17e43098",
   "metadata": {},
   "source": [
    "## Problem 4\n",
    "A prime number is any whole number greater than 1 that has no positive divisors besides 1 and itself. In other words, a prime number must be:\n",
    "1. an integer\n",
    "2. greater than 1\n",
    "3. divisible only by 1 and itself.\n",
    "\n",
    "Write a function is_prime(n) that accepts an argument `n` and returns `True` (boolean) if `n` is a prime number and `False` if n is not prime. For example, `is_prime(11)` should return `True` and `is_prime(12)` should return `False`.\n"
   ]
  },
  {
   "cell_type": "code",
   "execution_count": 77,
   "id": "7b43bc6c",
   "metadata": {},
   "outputs": [
    {
     "name": "stdout",
     "output_type": "stream",
     "text": [
      "True\n",
      "False\n",
      "False\n"
     ]
    }
   ],
   "source": [
    "def is_prime(n):\n",
    "    if not isinstance(n, int) or n<=1:\n",
    "        return False\n",
    "    elif n<=3:\n",
    "        return True\n",
    "    else:\n",
    "        for x in range(3,n):\n",
    "            if (n % x == 0):\n",
    "                return False\n",
    "        return True\n",
    "print(is_prime(11))\n",
    "print(is_prime(12))\n",
    "print(is_prime(1.5))"
   ]
  },
  {
   "cell_type": "markdown",
   "id": "e556b42f",
   "metadata": {},
   "source": [
    "## Problem 5"
   ]
  },
  {
   "cell_type": "markdown",
   "id": "fd5f4463",
   "metadata": {},
   "source": [
    "1. Create a class called `Housing`, and add the following attributes to it:\n",
    "  - type\n",
    "  - area\n",
    "  - number of bedrooms\n",
    "  - value (price)\n",
    "  - year built.\n",
    "2. Create two instances of your class and populate their attributes (make 'em up)\n",
    "3. Create a method called `rent()` that calculates the estimated monthly rent for each house (assume that monthly rent is 0.4% of the value of the house)\n",
    "4. Print the rent for both instances."
   ]
  },
  {
   "cell_type": "code",
   "execution_count": 90,
   "id": "efa713df",
   "metadata": {},
   "outputs": [],
   "source": [
    "#1\n",
    "class Housing:\n",
    "    def __init__(self, house_type, area, num_bdrns, value, year_blt):\n",
    "        self.house_type = house_type\n",
    "        self.area = area\n",
    "        self.num_bdrns = num_bdrns\n",
    "        self.value = value\n",
    "        self.year_blt = year_blt   "
   ]
  },
  {
   "cell_type": "code",
   "execution_count": 91,
   "id": "a3c1d095",
   "metadata": {},
   "outputs": [],
   "source": [
    "#2\n",
    "hs_1 = Housing('apartment', 1200, 3, 1500000, 2003)\n",
    "hs_2 = Housing('townhouse', 950, 2, 950000, 2013)"
   ]
  },
  {
   "cell_type": "code",
   "execution_count": 93,
   "id": "cfc07c39",
   "metadata": {},
   "outputs": [],
   "source": [
    "#3\n",
    "def rent(self):\n",
    "    return 0.004 * self.value\n",
    "Housing.rent = rent"
   ]
  },
  {
   "cell_type": "code",
   "execution_count": 94,
   "id": "ab948efc",
   "metadata": {},
   "outputs": [
    {
     "name": "stdout",
     "output_type": "stream",
     "text": [
      "house 1:  6000.0\n",
      "house 2:  3800.0\n"
     ]
    }
   ],
   "source": [
    "#4\n",
    "print('house 1: ', hs_1.rent())\n",
    "print('house 2: ', hs_2.rent())"
   ]
  }
 ],
 "metadata": {
  "kernelspec": {
   "display_name": "Python 3 (ipykernel)",
   "language": "python",
   "name": "python3"
  },
  "language_info": {
   "codemirror_mode": {
    "name": "ipython",
    "version": 3
   },
   "file_extension": ".py",
   "mimetype": "text/x-python",
   "name": "python",
   "nbconvert_exporter": "python",
   "pygments_lexer": "ipython3",
   "version": "3.11.5"
  },
  "toc": {
   "base_numbering": 1,
   "nav_menu": {},
   "number_sections": false,
   "sideBar": false,
   "skip_h1_title": true,
   "title_cell": "Table of Contents",
   "title_sidebar": "Contents",
   "toc_cell": false,
   "toc_position": {},
   "toc_section_display": true,
   "toc_window_display": false
  }
 },
 "nbformat": 4,
 "nbformat_minor": 5
}
