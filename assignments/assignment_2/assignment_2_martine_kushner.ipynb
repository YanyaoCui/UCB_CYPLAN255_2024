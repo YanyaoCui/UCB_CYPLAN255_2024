{
 "cells": [
  {
   "cell_type": "markdown",
   "id": "f8244f41",
   "metadata": {},
   "source": [
    "# Assignment 2 | Programming Logic\n",
    "\n",
    "Reminder: in all of the assignments this semester, the answer is not the only consideration, but also how you get to it. It's OK (suggested even!) to use the internet for help. But you _should_ be able to answer all of these questions using only the programming techniques you have learned in class and from the readings.\n",
    "\n",
    "A few keys for success:\n",
    "- Avoid manual data entry\n",
    "- Emphasize logic and clarity\n",
    "- Use comments, docstrings, and descriptive variable names\n",
    "- In general, less code is better. But if more lines of code makes your program easier to read or understand what its doing, then go for it."
   ]
  },
  {
   "cell_type": "markdown",
   "id": "152cee41",
   "metadata": {},
   "source": [
    "## Problem 1 \n",
    "Write a Python program to count the number of even and odd numbers from a list of numbers. Test your code by running it on a list of integers from 1 to 9. No need to make this a function unless you want to."
   ]
  },
  {
   "cell_type": "code",
   "execution_count": 18,
   "id": "2209d951",
   "metadata": {},
   "outputs": [
    {
     "name": "stdout",
     "output_type": "stream",
     "text": [
      "List of numbers: [1, 2, 3, 4, 5, 6, 7, 8, 9]\n",
      "Number of even numbers: 4\n",
      "Number of odd numbers: 5\n"
     ]
    }
   ],
   "source": [
    "even_count = 0\n",
    "odd_count = 0\n",
    "\n",
    "test = [1, 2, 3, 4, 5, 6, 7, 8, 9]\n",
    "\n",
    "for x in test:\n",
    "    if x % 2 == 0:\n",
    "        even_count += 1\n",
    "    else:\n",
    "        odd_count += 1\n",
    "\n",
    "\n",
    "# Print the results\n",
    "print(\"List of numbers:\", test)\n",
    "print(\"Number of even numbers:\", even_count)\n",
    "print(\"Number of odd numbers:\", odd_count)"
   ]
  },
  {
   "cell_type": "markdown",
   "id": "015c0374",
   "metadata": {
    "collapsed": true
   },
   "source": [
    "## Problem 2\n",
    "Write a Python function that takes a list of numbers and returns a list containing only the even numbers from the original list. Test your function by running it on a list of integers from 1 to 9."
   ]
  },
  {
   "cell_type": "code",
   "execution_count": 25,
   "id": "48b2cab5",
   "metadata": {},
   "outputs": [
    {
     "name": "stdout",
     "output_type": "stream",
     "text": [
      "Original list: [1, 2, 3, 4, 5, 6, 7, 8, 9]\n",
      "Even numbers: [2, 4, 6, 8]\n"
     ]
    }
   ],
   "source": [
    "def filter_even(input_list):\n",
    "    list_even = [x for x in input_list if x % 2 == 0]\n",
    "    return list_even\n",
    "\n",
    "list_origin = [1, 2, 3, 4, 5, 6, 7, 8, 9]\n",
    "list_even = filter_even(list_origin)\n",
    "\n",
    "print(\"Original list:\", list_origin)\n",
    "print(\"Even numbers:\", list_even)"
   ]
  },
  {
   "cell_type": "markdown",
   "id": "a7987111",
   "metadata": {},
   "source": [
    "## Problem 3\n",
    "\n",
    "1. Create a function that accepts a list of integers as an argument and returns a list of floats which equals each number as a fraction of the sum of all the items in the original list.\n",
    "\n",
    "2. Next, create a second function which is the same as the first, but limit each number in the output list to two decimals.\n",
    "\n",
    "3. Create another function which builds on the previous one by allowing a \"user\" pass in an argument that defines the number of decimal places to use in the output list.\n",
    "\n",
    "4. Test each of these functions with a list of integers"
   ]
  },
  {
   "cell_type": "code",
   "execution_count": 44,
   "id": "77015fb4",
   "metadata": {},
   "outputs": [
    {
     "name": "stdout",
     "output_type": "stream",
     "text": [
      "Original list: [1, 2, 3, 4, 5]\n",
      "Result 1: [0.06666666666666667, 0.13333333333333333, 0.2, 0.26666666666666666, 0.3333333333333333]\n",
      "Result 2: [0.07, 0.13, 0.2, 0.27, 0.33]\n",
      "Result 3: [0.067, 0.133, 0.2, 0.267, 0.333]\n"
     ]
    }
   ],
   "source": [
    " #1\n",
    "def fraction_of_sum(l):\n",
    "    total = sum(l)\n",
    "    return [float(x) / total for x in l]\n",
    "\n",
    "#2\n",
    "def fraction_of_sum_2(l):\n",
    "    total = sum(l)\n",
    "    return [round(float(x) / total, 2) for x in l]\n",
    "\n",
    "#3\n",
    "def fraction_of_sum_digits(l, digits):\n",
    "    total = sum(l)\n",
    "    return [round(float(x) / total, digits) for x in l]\n",
    "\n",
    "l = [1, 2, 3, 4, 5]\n",
    "\n",
    "result_1 = fraction_of_sum(l)\n",
    "result_2 = fraction_of_sum_2(l)\n",
    "result_3 = fraction_of_sum_digits(l,3)\n",
    "\n",
    "print(\"Original list:\", l)\n",
    "print(\"Result 1:\", result_1)\n",
    "print(\"Result 2:\", result_2)\n",
    "print(\"Result 3:\", result_3)"
   ]
  },
  {
   "cell_type": "markdown",
   "id": "acd994f2",
   "metadata": {},
   "source": [
    "## Problem 4\n",
    "A prime number is any whole number greater than 1 that has no positive divisors besides 1 and itself. In other words, a prime number must be:\n",
    "1. an integer\n",
    "2. greater than 1\n",
    "3. divisible only by 1 and itself.\n",
    "\n",
    "Write a function is_prime(n) that accepts an argument `n` and returns `True` (boolean) if `n` is a prime number and `False` if n is not prime. For example, `is_prime(11)` should return `True` and `is_prime(12)` should return `False`.\n"
   ]
  },
  {
   "cell_type": "code",
   "execution_count": 49,
   "id": "5aa859ce",
   "metadata": {},
   "outputs": [
    {
     "name": "stdout",
     "output_type": "stream",
     "text": [
      "True\n",
      "False\n"
     ]
    }
   ],
   "source": [
    "def is_prime(n):\n",
    "    if n <= 1:\n",
    "        return False\n",
    "    \n",
    "    for i in range(2, int(n**0.5) + 1):\n",
    "        if n % i == 0:\n",
    "            return False\n",
    "        else: \n",
    "            return True\n",
    "\n",
    "# Test cases\n",
    "print(is_prime(11))  # True\n",
    "print(is_prime(12))  # False"
   ]
  },
  {
   "cell_type": "markdown",
   "id": "2261222d",
   "metadata": {},
   "source": [
    "## Problem 5"
   ]
  },
  {
   "cell_type": "markdown",
   "id": "1080830a",
   "metadata": {},
   "source": [
    "1. Create a class called `Housing`, and add the following attributes to it:\n",
    "  - type\n",
    "  - area\n",
    "  - number of bedrooms\n",
    "  - value (price)\n",
    "  - year built.\n",
    "2. Create two instances of your class and populate their attributes (make 'em up)\n",
    "3. Create a method called `rent()` that calculates the estimated monthly rent for each house (assume that monthly rent is 0.4% of the value of the house)\n",
    "4. Print the rent for both instances."
   ]
  },
  {
   "cell_type": "code",
   "execution_count": 50,
   "id": "9ad59bdd",
   "metadata": {},
   "outputs": [
    {
     "name": "stdout",
     "output_type": "stream",
     "text": [
      "House 1 Monthly Rent: 1000.0\n",
      "House 2 Monthly Rent: 1400.0\n"
     ]
    }
   ],
   "source": [
    "class Housing:\n",
    "    def __init__(self, house_type, area, bedrooms, value, year_built):\n",
    "        self.type = house_type\n",
    "        self.area = area\n",
    "        self.bedrooms = bedrooms\n",
    "        self.value = value\n",
    "        self.year_built = year_built\n",
    "\n",
    "    def rent(self):\n",
    "        monthly_rent = 0.004 * self.value\n",
    "        return monthly_rent\n",
    "\n",
    "house1 = Housing(house_type=\"Apartment\", area=1200, bedrooms=2, value=250000, year_built=2005)\n",
    "house2 = Housing(house_type=\"House\", area=1800, bedrooms=3, value=350000, year_built=1990)\n",
    "\n",
    "print(\"House 1 Monthly Rent:\", house1.rent())\n",
    "print(\"House 2 Monthly Rent:\", house2.rent())"
   ]
  },
  {
   "cell_type": "code",
   "execution_count": null,
   "id": "0b955021",
   "metadata": {},
   "outputs": [],
   "source": []
  }
 ],
 "metadata": {
  "kernelspec": {
   "display_name": "Python 3",
   "language": "python",
   "name": "python3"
  },
  "language_info": {
   "codemirror_mode": {
    "name": "ipython",
    "version": 3
   },
   "file_extension": ".py",
   "mimetype": "text/x-python",
   "name": "python",
   "nbconvert_exporter": "python",
   "pygments_lexer": "ipython3",
   "version": "3.9.11"
  },
  "toc": {
   "base_numbering": 1,
   "nav_menu": {},
   "number_sections": false,
   "sideBar": false,
   "skip_h1_title": true,
   "title_cell": "Table of Contents",
   "title_sidebar": "Contents",
   "toc_cell": false,
   "toc_position": {},
   "toc_section_display": true,
   "toc_window_display": false
  }
 },
 "nbformat": 4,
 "nbformat_minor": 5
}
