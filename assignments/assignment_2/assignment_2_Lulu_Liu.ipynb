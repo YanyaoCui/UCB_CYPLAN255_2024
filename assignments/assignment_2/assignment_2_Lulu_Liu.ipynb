{
 "cells": [
  {
   "cell_type": "markdown",
   "id": "f96bdfc7",
   "metadata": {},
   "source": [
    "# Assignment 2 | Programming Logic\n",
    "\n",
    "Reminder: in all of the assignments this semester, the answer is not the only consideration, but also how you get to it. It's OK (suggested even!) to use the internet for help. But you _should_ be able to answer all of these questions using only the programming techniques you have learned in class and from the readings.\n",
    "\n",
    "A few keys for success:\n",
    "- Avoid manual data entry\n",
    "- Emphasize logic and clarity\n",
    "- Use comments, docstrings, and descriptive variable names\n",
    "- In general, less code is better. But if more lines of code makes your program easier to read or understand what its doing, then go for it."
   ]
  },
  {
   "cell_type": "markdown",
   "id": "078a9000",
   "metadata": {},
   "source": [
    "## Problem 1 \n",
    "Write a Python program to count the number of even and odd numbers from a list of numbers. Test your code by running it on a list of integers from 1 to 9. No need to make this a function unless you want to."
   ]
  },
  {
   "cell_type": "code",
   "execution_count": 1,
   "id": "8eb937c5",
   "metadata": {
    "collapsed": true
   },
   "outputs": [
    {
     "data": {
      "text/plain": [
       "(4, 5)"
      ]
     },
     "execution_count": 1,
     "metadata": {},
     "output_type": "execute_result"
    }
   ],
   "source": [
    "# List of integers from 1 to 9\n",
    "numbers = list(range(1, 10))\n",
    "\n",
    "# Initialize counters\n",
    "even_count, odd_count = 0, 0\n",
    "\n",
    "# Loop through the list and increment counters based on the number being even or odd\n",
    "for num in numbers:\n",
    "    if num % 2 == 0:\n",
    "        even_count += 1\n",
    "    else:\n",
    "        odd_count += 1\n",
    "\n",
    "even_count, odd_count"
   ]
  },
  {
   "cell_type": "markdown",
   "id": "db9df1a9",
   "metadata": {
    "collapsed": true
   },
   "source": [
    "## Problem 2\n",
    "Write a Python function that takes a list of numbers and returns a list containing only the even numbers from the original list. Test your function by running it on a list of integers from 1 to 9."
   ]
  },
  {
   "cell_type": "code",
   "execution_count": 2,
   "id": "45fcfd00",
   "metadata": {},
   "outputs": [
    {
     "data": {
      "text/plain": [
       "[2, 4, 6, 8]"
      ]
     },
     "execution_count": 2,
     "metadata": {},
     "output_type": "execute_result"
    }
   ],
   "source": [
    "def filter_even_numbers(numbers):\n",
    "    \"\"\"\n",
    "    This function takes a list of numbers and returns a new list containing only the even numbers from the original list.\n",
    "    \"\"\"\n",
    "    even_numbers = [num for num in numbers if num % 2 == 0]\n",
    "    return even_numbers\n",
    "\n",
    "# Test the function with a list of integers from 1 to 9\n",
    "test_numbers = list(range(1, 10))\n",
    "even_numbers = filter_even_numbers(test_numbers)\n",
    "even_numbers"
   ]
  },
  {
   "cell_type": "markdown",
   "id": "6a6f4ef0",
   "metadata": {},
   "source": [
    "## Problem 3\n",
    "\n",
    "1. Create a function that accepts a list of integers as an argument and returns a list of floats which equals each number as a fraction of the sum of all the items in the original list.\n",
    "\n",
    "2. Next, create a second function which is the same as the first, but limit each number in the output list to two decimals.\n",
    "\n",
    "3. Create another function which builds on the previous one by allowing a \"user\" pass in an argument that defines the number of decimal places to use in the output list.\n",
    "\n",
    "4. Test each of these functions with a list of integers"
   ]
  },
  {
   "cell_type": "code",
   "execution_count": 3,
   "id": "6856ee58",
   "metadata": {
    "collapsed": true
   },
   "outputs": [
    {
     "data": {
      "text/plain": [
       "([0.06666666666666667,\n",
       "  0.13333333333333333,\n",
       "  0.2,\n",
       "  0.26666666666666666,\n",
       "  0.3333333333333333],\n",
       " [0.07, 0.13, 0.2, 0.27, 0.33],\n",
       " [0.067, 0.133, 0.2, 0.267, 0.333])"
      ]
     },
     "execution_count": 3,
     "metadata": {},
     "output_type": "execute_result"
    }
   ],
   "source": [
    "def fraction_of_sum(numbers):\n",
    "    \"\"\"\n",
    "    Function to return a list of floats, where each float is a fraction of the number's value to the total sum of the list.\n",
    "    \"\"\"\n",
    "    total_sum = sum(numbers)\n",
    "    return [num / total_sum for num in numbers]\n",
    "\n",
    "def fraction_of_sum_two_decimals(numbers):\n",
    "    \"\"\"\n",
    "    Function to return a list of floats (limited to two decimal places), where each float is a fraction of the number's\n",
    "    value to the total sum of the list.\n",
    "    \"\"\"\n",
    "    total_sum = sum(numbers)\n",
    "    return [round(num / total_sum, 2) for num in numbers]\n",
    "\n",
    "def fraction_of_sum_custom_decimals(numbers, decimals=2):\n",
    "    \"\"\"\n",
    "    Function to return a list of floats, where each float is a fraction of the number's value to the total sum of the list,\n",
    "    with a customizable number of decimal places.\n",
    "    \"\"\"\n",
    "    total_sum = sum(numbers)\n",
    "    return [round(num / total_sum, decimals) for num in numbers]\n",
    "\n",
    "# Test\n",
    "test_numbers = [1, 2, 3, 4, 5]\n",
    "\n",
    "results_1 = fraction_of_sum(test_numbers)\n",
    "results_2 = fraction_of_sum_two_decimals(test_numbers)\n",
    "results_3 = fraction_of_sum_custom_decimals(test_numbers, 3)\n",
    "\n",
    "results_1, results_2, results_3"
   ]
  },
  {
   "cell_type": "markdown",
   "id": "17e43098",
   "metadata": {},
   "source": [
    "## Problem 4\n",
    "A prime number is any whole number greater than 1 that has no positive divisors besides 1 and itself. In other words, a prime number must be:\n",
    "1. an integer\n",
    "2. greater than 1\n",
    "3. divisible only by 1 and itself.\n",
    "\n",
    "Write a function is_prime(n) that accepts an argument `n` and returns `True` (boolean) if `n` is a prime number and `False` if n is not prime. For example, `is_prime(11)` should return `True` and `is_prime(12)` should return `False`.\n"
   ]
  },
  {
   "cell_type": "code",
   "execution_count": 5,
   "id": "7b43bc6c",
   "metadata": {
    "collapsed": true
   },
   "outputs": [
    {
     "data": {
      "text/plain": [
       "(True, False)"
      ]
     },
     "execution_count": 5,
     "metadata": {},
     "output_type": "execute_result"
    }
   ],
   "source": [
    "def is_prime(n):\n",
    "    # Check if n is less than 2, which is not prime\n",
    "    if n < 2:\n",
    "        return False\n",
    "    # Check for factors other than 1 and n itself\n",
    "    for i in range(2, n):\n",
    "        if n % i == 0:\n",
    "            return False\n",
    "    return True\n",
    "\n",
    "# Testing\n",
    "test_prime = is_prime(17)\n",
    "test_not_prime = is_prime(24)\n",
    "\n",
    "test_prime, test_not_prime"
   ]
  },
  {
   "cell_type": "markdown",
   "id": "e556b42f",
   "metadata": {},
   "source": [
    "## Problem 5"
   ]
  },
  {
   "cell_type": "markdown",
   "id": "fd5f4463",
   "metadata": {},
   "source": [
    "1. Create a class called `Housing`, and add the following attributes to it:\n",
    "  - type\n",
    "  - area\n",
    "  - number of bedrooms\n",
    "  - value (price)\n",
    "  - year built.\n",
    "2. Create two instances of your class and populate their attributes (make 'em up)\n",
    "3. Create a method called `rent()` that calculates the estimated monthly rent for each house (assume that monthly rent is 0.4% of the value of the house)\n",
    "4. Print the rent for both instances."
   ]
  },
  {
   "cell_type": "code",
   "execution_count": 6,
   "id": "efa713df",
   "metadata": {
    "collapsed": true
   },
   "outputs": [
    {
     "data": {
      "text/plain": [
       "(1200.0, 800.0)"
      ]
     },
     "execution_count": 6,
     "metadata": {},
     "output_type": "execute_result"
    }
   ],
   "source": [
    "class Housing:\n",
    "    def __init__(self, type, area, bedrooms, value, year_built):\n",
    "        self.type = type\n",
    "        self.area = area\n",
    "        self.bedrooms = bedrooms\n",
    "        self.value = value\n",
    "        self.year_built = year_built\n",
    "        \n",
    "    def rent(self):\n",
    "        # Monthly rent calculated as 0.4% of the house's value\n",
    "        return self.value * 0.004\n",
    "\n",
    "# Create two instances of Housing\n",
    "house1 = Housing(type=\"Detached\", area=1200, bedrooms=3, value=300000, year_built=1990)\n",
    "house2 = Housing(type=\"Apartment\", area=800, bedrooms=2, value=200000, year_built=2005)\n",
    "\n",
    "# Print the rent for both instances\n",
    "rent_house1 = house1.rent()\n",
    "rent_house2 = house2.rent()\n",
    "\n",
    "rent_house1, rent_house2\n"
   ]
  }
 ],
 "metadata": {
  "kernelspec": {
   "display_name": "Python 3",
   "language": "python",
   "name": "python3"
  },
  "language_info": {
   "codemirror_mode": {
    "name": "ipython",
    "version": 3
   },
   "file_extension": ".py",
   "mimetype": "text/x-python",
   "name": "python",
   "nbconvert_exporter": "python",
   "pygments_lexer": "ipython3",
   "version": "3.11.5"
  },
  "toc": {
   "base_numbering": 1,
   "nav_menu": {},
   "number_sections": false,
   "sideBar": false,
   "skip_h1_title": true,
   "title_cell": "Table of Contents",
   "title_sidebar": "Contents",
   "toc_cell": false,
   "toc_position": {},
   "toc_section_display": true,
   "toc_window_display": false
  }
 },
 "nbformat": 4,
 "nbformat_minor": 5
}
