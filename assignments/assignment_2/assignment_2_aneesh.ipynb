{
 "cells": [
  {
   "cell_type": "markdown",
   "id": "f96bdfc7",
   "metadata": {},
   "source": [
    "# Assignment 2 | Programming Logic\n",
    "\n",
    "Reminder: in all of the assignments this semester, the answer is not the only consideration, but also how you get to it. It's OK (suggested even!) to use the internet for help. But you _should_ be able to answer all of these questions using only the programming techniques you have learned in class and from the readings.\n",
    "\n",
    "A few keys for success:\n",
    "- Avoid manual data entry\n",
    "- Emphasize logic and clarity\n",
    "- Use comments, docstrings, and descriptive variable names\n",
    "- In general, less code is better. But if more lines of code makes your program easier to read or understand what its doing, then go for it."
   ]
  },
  {
   "cell_type": "markdown",
   "id": "078a9000",
   "metadata": {},
   "source": [
    "## Problem 1 \n",
    "Write a Python program to count the number of even and odd numbers from a list of numbers. Test your code by running it on a list of integers from 1 to 9. No need to make this a function unless you want to."
   ]
  },
  {
   "cell_type": "code",
   "execution_count": 1,
   "id": "8eb937c5",
   "metadata": {},
   "outputs": [
    {
     "name": "stdout",
     "output_type": "stream",
     "text": [
      "# of even numbers 4\n",
      "# of odd numbers 5\n"
     ]
    }
   ],
   "source": [
    "pb1 = [1, 2, 3, 4, 5, 6, 7, 8, 9]\n",
    "\n",
    "even = 0\n",
    "odd = 0\n",
    "\n",
    "for num in pb1:\n",
    "    if num % 2 == 0:\n",
    "        even = even + 1\n",
    "    else:\n",
    "        odd = odd + 1\n",
    "\n",
    "print(\"# of even numbers\", even)\n",
    "print(\"# of odd numbers\", odd)\n"
   ]
  },
  {
   "cell_type": "markdown",
   "id": "db9df1a9",
   "metadata": {
    "collapsed": true
   },
   "source": [
    "## Problem 2\n",
    "Write a Python function that takes a list of numbers and returns a list containing only the even numbers from the original list. Test your function by running it on a list of integers from 1 to 9."
   ]
  },
  {
   "cell_type": "code",
   "execution_count": 3,
   "id": "45fcfd00",
   "metadata": {},
   "outputs": [
    {
     "name": "stdout",
     "output_type": "stream",
     "text": [
      "List of even numbers: [2, 4, 6, 8]\n"
     ]
    }
   ],
   "source": [
    "def only_even(pb2):\n",
    "    even_nu = []\n",
    "    for num in pb2:\n",
    "        if num % 2 == 0:\n",
    "            even_nu.append(num)\n",
    "    return even_nu\n",
    "\n",
    "pb2 = [1, 2, 3, 4, 5, 6, 7, 8, 9]\n",
    "only_even(pb2)\n",
    "print(\"List of even numbers:\", only_even(pb2))"
   ]
  },
  {
   "cell_type": "markdown",
   "id": "6a6f4ef0",
   "metadata": {},
   "source": [
    "## Problem 3\n",
    "\n",
    "1. Create a function that accepts a list of integers as an argument and returns a list of floats which equals each number as a fraction of the sum of all the items in the original list.\n",
    "\n",
    "2. Next, create a second function which is the same as the first, but limit each number in the output list to two decimals.\n",
    "\n",
    "3. Create another function which builds on the previous one by allowing a \"user\" pass in an argument that defines the number of decimal places to use in the output list.\n",
    "\n",
    "4. Test each of these functions with a list of integers"
   ]
  },
  {
   "cell_type": "code",
   "execution_count": 7,
   "id": "6856ee58",
   "metadata": {},
   "outputs": [
    {
     "name": "stdout",
     "output_type": "stream",
     "text": [
      "[0.06666666666666667, 0.13333333333333333, 0.2, 0.26666666666666666, 0.3333333333333333]\n"
     ]
    }
   ],
   "source": [
    "def frac(lst):\n",
    "    total_sum = sum(lst)\n",
    "    result = []\n",
    "    for num in lst:\n",
    "        result.append(float(num) / total_sum)\n",
    "    return result\n",
    "\n",
    "\n",
    "og_list = [1, 2, 3, 4, 5]\n",
    "frac(og_list)\n",
    "print(frac(og_list))"
   ]
  },
  {
   "cell_type": "code",
   "execution_count": 11,
   "id": "eb0740dc",
   "metadata": {},
   "outputs": [
    {
     "name": "stdout",
     "output_type": "stream",
     "text": [
      "[0.07, 0.13, 0.2, 0.27, 0.33]\n"
     ]
    }
   ],
   "source": [
    "def frac2(lst):\n",
    "    total_sum = sum(lst)\n",
    "    result = []\n",
    "    for num in lst:\n",
    "        fraction = float(num) / total_sum\n",
    "        rounded_fraction = round(fraction, 2)\n",
    "        result.append(rounded_fraction)\n",
    "    return result\n",
    "\n",
    "# Example usage:\n",
    "original_list = [1, 2, 3, 4, 5]\n",
    "frac2(original_list)\n",
    "print(frac2(original_list))"
   ]
  },
  {
   "cell_type": "code",
   "execution_count": 13,
   "id": "bdc89007",
   "metadata": {},
   "outputs": [
    {
     "name": "stdout",
     "output_type": "stream",
     "text": [
      "[0.067, 0.133, 0.2, 0.267, 0.333]\n"
     ]
    }
   ],
   "source": [
    "def frac3(lst, decimal_places=2):\n",
    "    total_sum = sum(lst)\n",
    "    result = []\n",
    "    for num in lst:\n",
    "        fraction = float(num) / total_sum\n",
    "        rounded_fraction = round(fraction, decimal_places)\n",
    "        result.append(rounded_fraction)\n",
    "    return result\n",
    "\n",
    "original_list = [1, 2, 3, 4, 5]\n",
    "decimal_places = 3\n",
    "result = frac3(original_list, decimal_places)\n",
    "print(result) "
   ]
  },
  {
   "cell_type": "markdown",
   "id": "17e43098",
   "metadata": {},
   "source": [
    "## Problem 4\n",
    "A prime number is any whole number greater than 1 that has no positive divisors besides 1 and itself. In other words, a prime number must be:\n",
    "1. an integer\n",
    "2. greater than 1\n",
    "3. divisible only by 1 and itself.\n",
    "\n",
    "Write a function is_prime(n) that accepts an argument `n` and returns `True` (boolean) if `n` is a prime number and `False` if n is not prime. For example, `is_prime(11)` should return `True` and `is_prime(12)` should return `False`.\n"
   ]
  },
  {
   "cell_type": "code",
   "execution_count": 15,
   "id": "7b43bc6c",
   "metadata": {},
   "outputs": [
    {
     "name": "stdout",
     "output_type": "stream",
     "text": [
      "True\n",
      "False\n"
     ]
    }
   ],
   "source": [
    "import math\n",
    "\n",
    "def is_prime(n):\n",
    "    if n <= 1:  \n",
    "        return False\n",
    "    for i in range(2, math.isqrt(n) + 1):\n",
    "        if n % i == 0:\n",
    "            return False\n",
    "    return True\n",
    "\n",
    "\n",
    "print(is_prime(7)) \n",
    "print(is_prime(167890))  "
   ]
  },
  {
   "cell_type": "markdown",
   "id": "e556b42f",
   "metadata": {},
   "source": [
    "## Problem 5"
   ]
  },
  {
   "cell_type": "markdown",
   "id": "fd5f4463",
   "metadata": {},
   "source": [
    "1. Create a class called `Housing`, and add the following attributes to it:\n",
    "  - type\n",
    "  - area\n",
    "  - number of bedrooms\n",
    "  - value (price)\n",
    "  - year built.\n",
    "2. Create two instances of your class and populate their attributes (make 'em up)\n",
    "3. Create a method called `rent()` that calculates the estimated monthly rent for each house (assume that monthly rent is 0.4% of the value of the house)\n",
    "4. Print the rent for both instances."
   ]
  },
  {
   "cell_type": "code",
   "execution_count": 29,
   "id": "efa713df",
   "metadata": {},
   "outputs": [
    {
     "name": "stdout",
     "output_type": "stream",
     "text": [
      "Monthly rent for House 1: $10000.0\n",
      "Monthly rent for House 2: $400.0\n"
     ]
    }
   ],
   "source": [
    "class Housing:\n",
    "    def __init__(self, house_type, area, num_bedrooms, value, year_built):\n",
    "        self.type = house_type\n",
    "        self.area = area\n",
    "        self.num_bedrooms = num_bedrooms\n",
    "        self.value = value\n",
    "        self.year_built = year_built\n",
    "\n",
    "    def rent(self):\n",
    "        monthly_rent = 0.004 * self.value  # 0.4% of the value\n",
    "        return monthly_rent\n",
    "\n",
    "house1 = Housing(\"single\", 2567, 4, 2500000, 2000)\n",
    "house2 = Housing(\"condo\", 8000, 2, 100000, 2020)\n",
    "\n",
    "# Calculate and print the rent for each house\n",
    "print(f\"Monthly rent for House 1: ${house1.rent()}\")\n",
    "print(f\"Monthly rent for House 2: ${house2.rent()}\")\n"
   ]
  },
  {
   "cell_type": "code",
   "execution_count": null,
   "id": "a314d7bf",
   "metadata": {},
   "outputs": [],
   "source": []
  }
 ],
 "metadata": {
  "kernelspec": {
   "display_name": "Python 3 (ipykernel)",
   "language": "python",
   "name": "python3"
  },
  "language_info": {
   "codemirror_mode": {
    "name": "ipython",
    "version": 3
   },
   "file_extension": ".py",
   "mimetype": "text/x-python",
   "name": "python",
   "nbconvert_exporter": "python",
   "pygments_lexer": "ipython3",
   "version": "3.9.13"
  },
  "toc": {
   "base_numbering": 1,
   "nav_menu": {},
   "number_sections": false,
   "sideBar": false,
   "skip_h1_title": true,
   "title_cell": "Table of Contents",
   "title_sidebar": "Contents",
   "toc_cell": false,
   "toc_position": {},
   "toc_section_display": true,
   "toc_window_display": false
  }
 },
 "nbformat": 4,
 "nbformat_minor": 5
}
