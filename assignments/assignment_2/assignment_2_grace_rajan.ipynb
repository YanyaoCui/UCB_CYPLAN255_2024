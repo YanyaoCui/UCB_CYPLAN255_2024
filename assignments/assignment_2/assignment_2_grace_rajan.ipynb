{
 "cells": [
  {
   "cell_type": "markdown",
   "id": "f96bdfc7",
   "metadata": {},
   "source": [
    "# Assignment 2 | Programming Logic\n",
    "\n",
    "Reminder: in all of the assignments this semester, the answer is not the only consideration, but also how you get to it. It's OK (suggested even!) to use the internet for help. But you _should_ be able to answer all of these questions using only the programming techniques you have learned in class and from the readings.\n",
    "\n",
    "A few keys for success:\n",
    "- Avoid manual data entry\n",
    "- Emphasize logic and clarity\n",
    "- Use comments, docstrings, and descriptive variable names\n",
    "- In general, less code is better. But if more lines of code makes your program easier to read or understand what its doing, then go for it."
   ]
  },
  {
   "cell_type": "markdown",
   "id": "078a9000",
   "metadata": {},
   "source": [
    "## Problem 1 \n",
    "Write a Python program to count the number of even and odd numbers from a list of numbers. Test your code by running it on a list of integers from 1 to 9. No need to make this a function unless you want to."
   ]
  },
  {
   "cell_type": "code",
   "execution_count": 2,
   "id": "8eb937c5",
   "metadata": {},
   "outputs": [
    {
     "name": "stdout",
     "output_type": "stream",
     "text": [
      "Even numbers:  5\n",
      "Odd numbers:  5\n"
     ]
    }
   ],
   "source": [
    "listnum = [1, 2, 3, 4, 5, 6, 7, 8, 9, 10]\n",
    " \n",
    "even , odd = 0, 0\n",
    "\n",
    "for num in listnum:\n",
    " \n",
    "\n",
    "    if num % 2 == 0:\n",
    "        even += 1\n",
    " \n",
    "    else:\n",
    "        odd += 1\n",
    " \n",
    "print(\"Even numbers: \", even)\n",
    "print(\"Odd numbers: \", odd)"
   ]
  },
  {
   "cell_type": "markdown",
   "id": "db9df1a9",
   "metadata": {
    "collapsed": true
   },
   "source": [
    "## Problem 2\n",
    "Write a Python function that takes a list of numbers and returns a list containing only the even numbers from the original list. Test your function by running it on a list of integers from 1 to 9."
   ]
  },
  {
   "cell_type": "code",
   "execution_count": 6,
   "id": "45fcfd00",
   "metadata": {},
   "outputs": [
    {
     "name": "stdout",
     "output_type": "stream",
     "text": [
      "Even numbers: 2 4 6 8 "
     ]
    }
   ],
   "source": [
    "def evennumbers(list_input, n=0):\n",
    " \n",
    "    if n == len(list_input):\n",
    "        return\n",
    "    if list_input[n] % 2 == 0:\n",
    "        print(list_input[n], end=\" \")\n",
    "    evennumbers(list_input, n+1)\n",
    "\n",
    "\n",
    "list1 = [1, 2, 3, 4, 5, 6, 7, 8, 9]\n",
    "\n",
    "\n",
    "print(\"Even numbers:\", end=\" \")\n",
    "evennumbers(list1)\n"
   ]
  },
  {
   "cell_type": "markdown",
   "id": "6a6f4ef0",
   "metadata": {},
   "source": [
    "## Problem 3\n",
    "\n",
    "1. Create a function that accepts a list of integers as an argument and returns a list of floats which equals each number as a fraction of the sum of all the items in the original list.\n",
    "\n",
    "2. Next, create a second function which is the same as the first, but limit each number in the output list to two decimals.\n",
    "\n",
    "3. Create another function which builds on the previous one by allowing a \"user\" pass in an argument that defines the number of decimal places to use in the output list.\n",
    "\n",
    "4. Test each of these functions with a list of integers"
   ]
  },
  {
   "cell_type": "code",
   "execution_count": 8,
   "id": "6856ee58",
   "metadata": {},
   "outputs": [
    {
     "name": "stdout",
     "output_type": "stream",
     "text": [
      "Function 1 : [0.047619047619047616, 0.09523809523809523, 0.14285714285714285, 0.19047619047619047, 0.23809523809523808, 0.2857142857142857]\n",
      "Function 2 : [0.05, 0.1, 0.14, 0.19, 0.24, 0.29]\n",
      "Function 3 (2 decimals): [0.05, 0.1, 0.14, 0.19, 0.24, 0.29]\n"
     ]
    }
   ],
   "source": [
    "def fraction_of_sum(lst):\n",
    "    total_sum = sum(lst)\n",
    "    return [x / total_sum for x in lst]\n",
    "\n",
    "def fraction_of_sum_2(lst):\n",
    "    total_sum = sum(lst)\n",
    "    return [round(x / total_sum, 2) for x in lst]\n",
    "\n",
    "def fraction_of_sum_3(lst, decimals=2):\n",
    "    total_sum = sum(lst)\n",
    "    return [round(x / total_sum, decimals) for x in lst]\n",
    "\n",
    "test_list = [10, 20, 30, 40, 50, 60]\n",
    "\n",
    "print(\"Function 1 :\", fraction_of_sum(test_list))\n",
    "print(\"Function 2 :\", fraction_of_sum_2(test_list))\n",
    "print(\"Function 3 (2 decimals):\", fraction_of_sum_3(test_list, 2))\n",
    "\n"
   ]
  },
  {
   "cell_type": "markdown",
   "id": "17e43098",
   "metadata": {},
   "source": [
    "## Problem 4\n",
    "A prime number is any whole number greater than 1 that has no positive divisors besides 1 and itself. In other words, a prime number must be:\n",
    "1. an integer\n",
    "2. greater than 1\n",
    "3. divisible only by 1 and itself.\n",
    "\n",
    "Write a function is_prime(n) that accepts an argument `n` and returns `True` (boolean) if `n` is a prime number and `False` if n is not prime. For example, `is_prime(11)` should return `True` and `is_prime(12)` should return `False`.\n"
   ]
  },
  {
   "cell_type": "code",
   "execution_count": 21,
   "id": "7b43bc6c",
   "metadata": {},
   "outputs": [
    {
     "name": "stdout",
     "output_type": "stream",
     "text": [
      "True\n",
      "False\n"
     ]
    }
   ],
   "source": [
    "import math\n",
    "\n",
    "def is_prime(n):\n",
    "    \n",
    "    if n <= 1:\n",
    "        return False\n",
    "    if n <= 3:\n",
    "        return True\n",
    "\n",
    "    if n % 2 == 0 or n % 3 == 0:\n",
    "        return False\n",
    "    \n",
    "    i = 5\n",
    "    while i * i <= n:  \n",
    "        if n % i == 0 or n % (i + 2) == 0:\n",
    "            return False\n",
    "        i += 6 \n",
    "        \n",
    "    return True\n",
    "\n",
    "print(is_prime(3))\n",
    "print(is_prime(12))\n",
    "        "
   ]
  },
  {
   "cell_type": "markdown",
   "id": "e556b42f",
   "metadata": {},
   "source": [
    "## Problem 5"
   ]
  },
  {
   "cell_type": "markdown",
   "id": "fd5f4463",
   "metadata": {},
   "source": [
    "1. Create a class called `Housing`, and add the following attributes to it:\n",
    "  - type\n",
    "  - area\n",
    "  - number of bedrooms\n",
    "  - value (price)\n",
    "  - year built.\n",
    "2. Create two instances of your class and populate their attributes (make 'em up)\n",
    "3. Create a method called `rent()` that calculates the estimated monthly rent for each house (assume that monthly rent is 0.4% of the value of the house)\n",
    "4. Print the rent for both instances."
   ]
  },
  {
   "cell_type": "code",
   "execution_count": 17,
   "id": "efa713df",
   "metadata": {},
   "outputs": [
    {
     "name": "stdout",
     "output_type": "stream",
     "text": [
      "Monthly rent for the Apartment: $2000.00\n",
      "Monthly rent for the House: $3800.00\n"
     ]
    }
   ],
   "source": [
    "class Housing:\n",
    "    def __init__(self, type, area, bedrooms, value, year_built):\n",
    "        self.type = type  # Type of housing (e.g., 'Apartment', 'House')\n",
    "        self.area = area  \n",
    "        self.bedrooms = bedrooms \n",
    "        self.value = value  \n",
    "        self.year_built = year_built  \n",
    "\n",
    "    def rent(self):\n",
    "        return self.value * 0.004\n",
    "\n",
    "\n",
    "apartment = Housing(type='Apartment', area=950, bedrooms=2, value=500000, year_built=2005)\n",
    "house = Housing(type='House', area=1100, bedrooms=2, value=950000, year_built=1955)\n",
    "\n",
    "print(f\"Monthly rent for the {apartment.type}: ${apartment.rent():.2f}\")\n",
    "print(f\"Monthly rent for the {house.type}: ${house.rent():.2f}\")\n",
    "\n"
   ]
  },
  {
   "cell_type": "code",
   "execution_count": null,
   "id": "6a86e61c",
   "metadata": {},
   "outputs": [],
   "source": []
  },
  {
   "cell_type": "code",
   "execution_count": null,
   "id": "70425da5",
   "metadata": {},
   "outputs": [],
   "source": []
  },
  {
   "cell_type": "code",
   "execution_count": null,
   "id": "58ba77c2",
   "metadata": {},
   "outputs": [],
   "source": []
  }
 ],
 "metadata": {
  "kernelspec": {
   "display_name": "Python 3 (ipykernel)",
   "language": "python",
   "name": "python3"
  },
  "language_info": {
   "codemirror_mode": {
    "name": "ipython",
    "version": 3
   },
   "file_extension": ".py",
   "mimetype": "text/x-python",
   "name": "python",
   "nbconvert_exporter": "python",
   "pygments_lexer": "ipython3",
   "version": "3.11.5"
  },
  "toc": {
   "base_numbering": 1,
   "nav_menu": {},
   "number_sections": false,
   "sideBar": false,
   "skip_h1_title": true,
   "title_cell": "Table of Contents",
   "title_sidebar": "Contents",
   "toc_cell": false,
   "toc_position": {},
   "toc_section_display": true,
   "toc_window_display": false
  }
 },
 "nbformat": 4,
 "nbformat_minor": 5
}
